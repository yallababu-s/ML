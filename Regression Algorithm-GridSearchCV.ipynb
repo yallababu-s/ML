{
 "cells": [
  {
   "cell_type": "markdown",
   "id": "7955a6e0",
   "metadata": {},
   "source": [
    "# Problem Statement or Requirement:\n",
    "A client’s requirement is, he wants to predict the insurance charges based on the several parameters. The Client has provided the dataset of the same.\n",
    "As a data scientist, you must develop a model which will predict the insurance charges.\n"
   ]
  },
  {
   "cell_type": "code",
   "execution_count": 1,
   "id": "7cb0b022",
   "metadata": {},
   "outputs": [],
   "source": [
    "#import libraries\n",
    "import pandas as pd\n",
    "import numpy as np"
   ]
  },
  {
   "cell_type": "code",
   "execution_count": 2,
   "id": "1df57454",
   "metadata": {},
   "outputs": [],
   "source": [
    "data=pd.read_csv(\"insurance_pre.csv\")"
   ]
  },
  {
   "cell_type": "code",
   "execution_count": 3,
   "id": "557ac063",
   "metadata": {},
   "outputs": [
    {
     "data": {
      "text/html": [
       "<div>\n",
       "<style scoped>\n",
       "    .dataframe tbody tr th:only-of-type {\n",
       "        vertical-align: middle;\n",
       "    }\n",
       "\n",
       "    .dataframe tbody tr th {\n",
       "        vertical-align: top;\n",
       "    }\n",
       "\n",
       "    .dataframe thead th {\n",
       "        text-align: right;\n",
       "    }\n",
       "</style>\n",
       "<table border=\"1\" class=\"dataframe\">\n",
       "  <thead>\n",
       "    <tr style=\"text-align: right;\">\n",
       "      <th></th>\n",
       "      <th>age</th>\n",
       "      <th>sex</th>\n",
       "      <th>bmi</th>\n",
       "      <th>children</th>\n",
       "      <th>smoker</th>\n",
       "      <th>charges</th>\n",
       "    </tr>\n",
       "  </thead>\n",
       "  <tbody>\n",
       "    <tr>\n",
       "      <th>0</th>\n",
       "      <td>19</td>\n",
       "      <td>female</td>\n",
       "      <td>27.900</td>\n",
       "      <td>0</td>\n",
       "      <td>yes</td>\n",
       "      <td>16884.92400</td>\n",
       "    </tr>\n",
       "    <tr>\n",
       "      <th>1</th>\n",
       "      <td>18</td>\n",
       "      <td>male</td>\n",
       "      <td>33.770</td>\n",
       "      <td>1</td>\n",
       "      <td>no</td>\n",
       "      <td>1725.55230</td>\n",
       "    </tr>\n",
       "    <tr>\n",
       "      <th>2</th>\n",
       "      <td>28</td>\n",
       "      <td>male</td>\n",
       "      <td>33.000</td>\n",
       "      <td>3</td>\n",
       "      <td>no</td>\n",
       "      <td>4449.46200</td>\n",
       "    </tr>\n",
       "    <tr>\n",
       "      <th>3</th>\n",
       "      <td>33</td>\n",
       "      <td>male</td>\n",
       "      <td>22.705</td>\n",
       "      <td>0</td>\n",
       "      <td>no</td>\n",
       "      <td>21984.47061</td>\n",
       "    </tr>\n",
       "    <tr>\n",
       "      <th>4</th>\n",
       "      <td>32</td>\n",
       "      <td>male</td>\n",
       "      <td>28.880</td>\n",
       "      <td>0</td>\n",
       "      <td>no</td>\n",
       "      <td>3866.85520</td>\n",
       "    </tr>\n",
       "    <tr>\n",
       "      <th>...</th>\n",
       "      <td>...</td>\n",
       "      <td>...</td>\n",
       "      <td>...</td>\n",
       "      <td>...</td>\n",
       "      <td>...</td>\n",
       "      <td>...</td>\n",
       "    </tr>\n",
       "    <tr>\n",
       "      <th>1333</th>\n",
       "      <td>50</td>\n",
       "      <td>male</td>\n",
       "      <td>30.970</td>\n",
       "      <td>3</td>\n",
       "      <td>no</td>\n",
       "      <td>10600.54830</td>\n",
       "    </tr>\n",
       "    <tr>\n",
       "      <th>1334</th>\n",
       "      <td>18</td>\n",
       "      <td>female</td>\n",
       "      <td>31.920</td>\n",
       "      <td>0</td>\n",
       "      <td>no</td>\n",
       "      <td>2205.98080</td>\n",
       "    </tr>\n",
       "    <tr>\n",
       "      <th>1335</th>\n",
       "      <td>18</td>\n",
       "      <td>female</td>\n",
       "      <td>36.850</td>\n",
       "      <td>0</td>\n",
       "      <td>no</td>\n",
       "      <td>1629.83350</td>\n",
       "    </tr>\n",
       "    <tr>\n",
       "      <th>1336</th>\n",
       "      <td>21</td>\n",
       "      <td>female</td>\n",
       "      <td>25.800</td>\n",
       "      <td>0</td>\n",
       "      <td>no</td>\n",
       "      <td>2007.94500</td>\n",
       "    </tr>\n",
       "    <tr>\n",
       "      <th>1337</th>\n",
       "      <td>61</td>\n",
       "      <td>female</td>\n",
       "      <td>29.070</td>\n",
       "      <td>0</td>\n",
       "      <td>yes</td>\n",
       "      <td>29141.36030</td>\n",
       "    </tr>\n",
       "  </tbody>\n",
       "</table>\n",
       "<p>1338 rows × 6 columns</p>\n",
       "</div>"
      ],
      "text/plain": [
       "      age     sex     bmi  children smoker      charges\n",
       "0      19  female  27.900         0    yes  16884.92400\n",
       "1      18    male  33.770         1     no   1725.55230\n",
       "2      28    male  33.000         3     no   4449.46200\n",
       "3      33    male  22.705         0     no  21984.47061\n",
       "4      32    male  28.880         0     no   3866.85520\n",
       "...   ...     ...     ...       ...    ...          ...\n",
       "1333   50    male  30.970         3     no  10600.54830\n",
       "1334   18  female  31.920         0     no   2205.98080\n",
       "1335   18  female  36.850         0     no   1629.83350\n",
       "1336   21  female  25.800         0     no   2007.94500\n",
       "1337   61  female  29.070         0    yes  29141.36030\n",
       "\n",
       "[1338 rows x 6 columns]"
      ]
     },
     "execution_count": 3,
     "metadata": {},
     "output_type": "execute_result"
    }
   ],
   "source": [
    "data"
   ]
  },
  {
   "cell_type": "code",
   "execution_count": 4,
   "id": "d8bca922",
   "metadata": {},
   "outputs": [
    {
     "data": {
      "text/plain": [
       "(1338, 6)"
      ]
     },
     "execution_count": 4,
     "metadata": {},
     "output_type": "execute_result"
    }
   ],
   "source": [
    "2.#basic info about the dataset (Total number of rows, columns)\n",
    "data.shape"
   ]
  },
  {
   "cell_type": "code",
   "execution_count": 5,
   "id": "43092956",
   "metadata": {},
   "outputs": [
    {
     "data": {
      "text/plain": [
       "Index(['age', 'sex', 'bmi', 'children', 'smoker', 'charges'], dtype='object')"
      ]
     },
     "execution_count": 5,
     "metadata": {},
     "output_type": "execute_result"
    }
   ],
   "source": [
    "data.columns"
   ]
  },
  {
   "cell_type": "code",
   "execution_count": 4,
   "id": "e3d6f772",
   "metadata": {},
   "outputs": [],
   "source": [
    "data = pd.get_dummies(data,drop_first=True)\n",
    "#dummies=One-Hot Encoding and  drop_first to remove repetetion "
   ]
  },
  {
   "cell_type": "code",
   "execution_count": 5,
   "id": "c71d8ee8",
   "metadata": {},
   "outputs": [],
   "source": [
    "data=data.astype(int)\n",
    "#2024 update to show 0 and 1"
   ]
  },
  {
   "cell_type": "code",
   "execution_count": 6,
   "id": "58ef47d4",
   "metadata": {},
   "outputs": [
    {
     "data": {
      "text/html": [
       "<div>\n",
       "<style scoped>\n",
       "    .dataframe tbody tr th:only-of-type {\n",
       "        vertical-align: middle;\n",
       "    }\n",
       "\n",
       "    .dataframe tbody tr th {\n",
       "        vertical-align: top;\n",
       "    }\n",
       "\n",
       "    .dataframe thead th {\n",
       "        text-align: right;\n",
       "    }\n",
       "</style>\n",
       "<table border=\"1\" class=\"dataframe\">\n",
       "  <thead>\n",
       "    <tr style=\"text-align: right;\">\n",
       "      <th></th>\n",
       "      <th>age</th>\n",
       "      <th>bmi</th>\n",
       "      <th>children</th>\n",
       "      <th>charges</th>\n",
       "      <th>sex_male</th>\n",
       "      <th>smoker_yes</th>\n",
       "    </tr>\n",
       "  </thead>\n",
       "  <tbody>\n",
       "    <tr>\n",
       "      <th>0</th>\n",
       "      <td>19</td>\n",
       "      <td>27</td>\n",
       "      <td>0</td>\n",
       "      <td>16884</td>\n",
       "      <td>0</td>\n",
       "      <td>1</td>\n",
       "    </tr>\n",
       "    <tr>\n",
       "      <th>1</th>\n",
       "      <td>18</td>\n",
       "      <td>33</td>\n",
       "      <td>1</td>\n",
       "      <td>1725</td>\n",
       "      <td>1</td>\n",
       "      <td>0</td>\n",
       "    </tr>\n",
       "    <tr>\n",
       "      <th>2</th>\n",
       "      <td>28</td>\n",
       "      <td>33</td>\n",
       "      <td>3</td>\n",
       "      <td>4449</td>\n",
       "      <td>1</td>\n",
       "      <td>0</td>\n",
       "    </tr>\n",
       "    <tr>\n",
       "      <th>3</th>\n",
       "      <td>33</td>\n",
       "      <td>22</td>\n",
       "      <td>0</td>\n",
       "      <td>21984</td>\n",
       "      <td>1</td>\n",
       "      <td>0</td>\n",
       "    </tr>\n",
       "    <tr>\n",
       "      <th>4</th>\n",
       "      <td>32</td>\n",
       "      <td>28</td>\n",
       "      <td>0</td>\n",
       "      <td>3866</td>\n",
       "      <td>1</td>\n",
       "      <td>0</td>\n",
       "    </tr>\n",
       "    <tr>\n",
       "      <th>...</th>\n",
       "      <td>...</td>\n",
       "      <td>...</td>\n",
       "      <td>...</td>\n",
       "      <td>...</td>\n",
       "      <td>...</td>\n",
       "      <td>...</td>\n",
       "    </tr>\n",
       "    <tr>\n",
       "      <th>1333</th>\n",
       "      <td>50</td>\n",
       "      <td>30</td>\n",
       "      <td>3</td>\n",
       "      <td>10600</td>\n",
       "      <td>1</td>\n",
       "      <td>0</td>\n",
       "    </tr>\n",
       "    <tr>\n",
       "      <th>1334</th>\n",
       "      <td>18</td>\n",
       "      <td>31</td>\n",
       "      <td>0</td>\n",
       "      <td>2205</td>\n",
       "      <td>0</td>\n",
       "      <td>0</td>\n",
       "    </tr>\n",
       "    <tr>\n",
       "      <th>1335</th>\n",
       "      <td>18</td>\n",
       "      <td>36</td>\n",
       "      <td>0</td>\n",
       "      <td>1629</td>\n",
       "      <td>0</td>\n",
       "      <td>0</td>\n",
       "    </tr>\n",
       "    <tr>\n",
       "      <th>1336</th>\n",
       "      <td>21</td>\n",
       "      <td>25</td>\n",
       "      <td>0</td>\n",
       "      <td>2007</td>\n",
       "      <td>0</td>\n",
       "      <td>0</td>\n",
       "    </tr>\n",
       "    <tr>\n",
       "      <th>1337</th>\n",
       "      <td>61</td>\n",
       "      <td>29</td>\n",
       "      <td>0</td>\n",
       "      <td>29141</td>\n",
       "      <td>0</td>\n",
       "      <td>1</td>\n",
       "    </tr>\n",
       "  </tbody>\n",
       "</table>\n",
       "<p>1338 rows × 6 columns</p>\n",
       "</div>"
      ],
      "text/plain": [
       "      age  bmi  children  charges  sex_male  smoker_yes\n",
       "0      19   27         0    16884         0           1\n",
       "1      18   33         1     1725         1           0\n",
       "2      28   33         3     4449         1           0\n",
       "3      33   22         0    21984         1           0\n",
       "4      32   28         0     3866         1           0\n",
       "...   ...  ...       ...      ...       ...         ...\n",
       "1333   50   30         3    10600         1           0\n",
       "1334   18   31         0     2205         0           0\n",
       "1335   18   36         0     1629         0           0\n",
       "1336   21   25         0     2007         0           0\n",
       "1337   61   29         0    29141         0           1\n",
       "\n",
       "[1338 rows x 6 columns]"
      ]
     },
     "execution_count": 6,
     "metadata": {},
     "output_type": "execute_result"
    }
   ],
   "source": [
    "data"
   ]
  },
  {
   "cell_type": "code",
   "execution_count": 9,
   "id": "55acdee7",
   "metadata": {},
   "outputs": [
    {
     "data": {
      "text/plain": [
       "Index(['age', 'bmi', 'children', 'charges', 'sex_male', 'smoker_yes'], dtype='object')"
      ]
     },
     "execution_count": 9,
     "metadata": {},
     "output_type": "execute_result"
    }
   ],
   "source": [
    "data.columns"
   ]
  },
  {
   "cell_type": "markdown",
   "id": "d4237e12",
   "metadata": {},
   "source": [
    "#df.drop: This function is used to remove rows or columns from a DataFrame in pandas\n",
    "#axis=0 refers to rows.----index  --x=data.drop('columname',axis=0)\n",
    "#axis=1 refers to columns.   x=data.drop('age',axis=2)---drop/remove column\n",
    "#inplace=True, the operation modifies the DataFrame directly and does not return a new DataFrame\n",
    "#inplace=False (default), the function returns a new DataFrame with the specified column removed, \n",
    "#leaving the original DataFrame unchanged"
   ]
  },
  {
   "cell_type": "code",
   "execution_count": 7,
   "id": "2f8ad1d8",
   "metadata": {},
   "outputs": [],
   "source": [
    "# creating feature variables\n",
    "#multiple inputs\n",
    "indep=data[['age', 'bmi', 'children', 'sex_male', 'smoker_yes']]\n",
    "#one output\n",
    "dep=data[['charges']]"
   ]
  },
  {
   "cell_type": "code",
   "execution_count": 8,
   "id": "489344e0",
   "metadata": {},
   "outputs": [],
   "source": [
    "#model feature selection\n",
    "from sklearn.model_selection import train_test_split\n",
    "#tran 70,test 30 same order below\n",
    "X_train,X_test,y_train,y_test=train_test_split(indep,dep,test_size=0.30,random_state=0)\n",
    "#errors  X_train not defined  check spelling full code/== remove \n",
    "#restart kernel if required\n"
   ]
  },
  {
   "cell_type": "markdown",
   "id": "c3990f02",
   "metadata": {},
   "source": [
    "# GridSearchCV import libraries to all models"
   ]
  },
  {
   "cell_type": "code",
   "execution_count": 9,
   "id": "92e32866",
   "metadata": {},
   "outputs": [],
   "source": [
    "#import numpy as np\n",
    "from sklearn.svm import SVR\n",
    "from sklearn.tree import DecisionTreeRegressor\n",
    "from sklearn.ensemble import RandomForestRegressor\n",
    "from sklearn.model_selection import GridSearchCV, train_test_split\n",
    "from sklearn.metrics import r2_score\n",
    "from sklearn.datasets import make_regression"
   ]
  },
  {
   "cell_type": "markdown",
   "id": "3fc0deb7",
   "metadata": {},
   "source": [
    "# SVM : Super Vector Machine\n",
    "#SVR -regression"
   ]
  },
  {
   "cell_type": "code",
   "execution_count": null,
   "id": "dff16f1b",
   "metadata": {},
   "outputs": [],
   "source": [
    "##default regression:class sklearn.svm.SVR(*, kernel='rbf', degree=3, gamma='scale', coef0=0.0, tol=0.001, C=1.0, epsilon=0.1, \n",
    "#shrinking=True, cache_size=200, verbose=False, max_iter=-1)[source]\n",
    "#document  https://scikit-learn.org/stable/modules/generated/sklearn.svm.SVR.html"
   ]
  },
  {
   "cell_type": "code",
   "execution_count": 10,
   "id": "a1a9049d",
   "metadata": {},
   "outputs": [
    {
     "name": "stdout",
     "output_type": "stream",
     "text": [
      "Fitting 5 folds for each of 16 candidates, totalling 80 fits\n"
     ]
    },
    {
     "name": "stderr",
     "output_type": "stream",
     "text": [
      "C:\\Users\\hp\\anaconda3\\Lib\\site-packages\\sklearn\\utils\\validation.py:1184: DataConversionWarning: A column-vector y was passed when a 1d array was expected. Please change the shape of y to (n_samples, ), for example using ravel().\n",
      "  y = column_or_1d(y, warn=True)\n"
     ]
    },
    {
     "data": {
      "text/html": [
       "<style>#sk-container-id-1 {color: black;}#sk-container-id-1 pre{padding: 0;}#sk-container-id-1 div.sk-toggleable {background-color: white;}#sk-container-id-1 label.sk-toggleable__label {cursor: pointer;display: block;width: 100%;margin-bottom: 0;padding: 0.3em;box-sizing: border-box;text-align: center;}#sk-container-id-1 label.sk-toggleable__label-arrow:before {content: \"▸\";float: left;margin-right: 0.25em;color: #696969;}#sk-container-id-1 label.sk-toggleable__label-arrow:hover:before {color: black;}#sk-container-id-1 div.sk-estimator:hover label.sk-toggleable__label-arrow:before {color: black;}#sk-container-id-1 div.sk-toggleable__content {max-height: 0;max-width: 0;overflow: hidden;text-align: left;background-color: #f0f8ff;}#sk-container-id-1 div.sk-toggleable__content pre {margin: 0.2em;color: black;border-radius: 0.25em;background-color: #f0f8ff;}#sk-container-id-1 input.sk-toggleable__control:checked~div.sk-toggleable__content {max-height: 200px;max-width: 100%;overflow: auto;}#sk-container-id-1 input.sk-toggleable__control:checked~label.sk-toggleable__label-arrow:before {content: \"▾\";}#sk-container-id-1 div.sk-estimator input.sk-toggleable__control:checked~label.sk-toggleable__label {background-color: #d4ebff;}#sk-container-id-1 div.sk-label input.sk-toggleable__control:checked~label.sk-toggleable__label {background-color: #d4ebff;}#sk-container-id-1 input.sk-hidden--visually {border: 0;clip: rect(1px 1px 1px 1px);clip: rect(1px, 1px, 1px, 1px);height: 1px;margin: -1px;overflow: hidden;padding: 0;position: absolute;width: 1px;}#sk-container-id-1 div.sk-estimator {font-family: monospace;background-color: #f0f8ff;border: 1px dotted black;border-radius: 0.25em;box-sizing: border-box;margin-bottom: 0.5em;}#sk-container-id-1 div.sk-estimator:hover {background-color: #d4ebff;}#sk-container-id-1 div.sk-parallel-item::after {content: \"\";width: 100%;border-bottom: 1px solid gray;flex-grow: 1;}#sk-container-id-1 div.sk-label:hover label.sk-toggleable__label {background-color: #d4ebff;}#sk-container-id-1 div.sk-serial::before {content: \"\";position: absolute;border-left: 1px solid gray;box-sizing: border-box;top: 0;bottom: 0;left: 50%;z-index: 0;}#sk-container-id-1 div.sk-serial {display: flex;flex-direction: column;align-items: center;background-color: white;padding-right: 0.2em;padding-left: 0.2em;position: relative;}#sk-container-id-1 div.sk-item {position: relative;z-index: 1;}#sk-container-id-1 div.sk-parallel {display: flex;align-items: stretch;justify-content: center;background-color: white;position: relative;}#sk-container-id-1 div.sk-item::before, #sk-container-id-1 div.sk-parallel-item::before {content: \"\";position: absolute;border-left: 1px solid gray;box-sizing: border-box;top: 0;bottom: 0;left: 50%;z-index: -1;}#sk-container-id-1 div.sk-parallel-item {display: flex;flex-direction: column;z-index: 1;position: relative;background-color: white;}#sk-container-id-1 div.sk-parallel-item:first-child::after {align-self: flex-end;width: 50%;}#sk-container-id-1 div.sk-parallel-item:last-child::after {align-self: flex-start;width: 50%;}#sk-container-id-1 div.sk-parallel-item:only-child::after {width: 0;}#sk-container-id-1 div.sk-dashed-wrapped {border: 1px dashed gray;margin: 0 0.4em 0.5em 0.4em;box-sizing: border-box;padding-bottom: 0.4em;background-color: white;}#sk-container-id-1 div.sk-label label {font-family: monospace;font-weight: bold;display: inline-block;line-height: 1.2em;}#sk-container-id-1 div.sk-label-container {text-align: center;}#sk-container-id-1 div.sk-container {/* jupyter's `normalize.less` sets `[hidden] { display: none; }` but bootstrap.min.css set `[hidden] { display: none !important; }` so we also need the `!important` here to be able to override the default hidden behavior on the sphinx rendered scikit-learn.org. See: https://github.com/scikit-learn/scikit-learn/issues/21755 */display: inline-block !important;position: relative;}#sk-container-id-1 div.sk-text-repr-fallback {display: none;}</style><div id=\"sk-container-id-1\" class=\"sk-top-container\"><div class=\"sk-text-repr-fallback\"><pre>GridSearchCV(estimator=SVR(), n_jobs=-1,\n",
       "             param_grid={&#x27;C&#x27;: [0.1, 1, 10, 100],\n",
       "                         &#x27;kernel&#x27;: [&#x27;linear&#x27;, &#x27;rbf&#x27;, &#x27;poly&#x27;, &#x27;sigmoid&#x27;]},\n",
       "             verbose=3)</pre><b>In a Jupyter environment, please rerun this cell to show the HTML representation or trust the notebook. <br />On GitHub, the HTML representation is unable to render, please try loading this page with nbviewer.org.</b></div><div class=\"sk-container\" hidden><div class=\"sk-item sk-dashed-wrapped\"><div class=\"sk-label-container\"><div class=\"sk-label sk-toggleable\"><input class=\"sk-toggleable__control sk-hidden--visually\" id=\"sk-estimator-id-1\" type=\"checkbox\" ><label for=\"sk-estimator-id-1\" class=\"sk-toggleable__label sk-toggleable__label-arrow\">GridSearchCV</label><div class=\"sk-toggleable__content\"><pre>GridSearchCV(estimator=SVR(), n_jobs=-1,\n",
       "             param_grid={&#x27;C&#x27;: [0.1, 1, 10, 100],\n",
       "                         &#x27;kernel&#x27;: [&#x27;linear&#x27;, &#x27;rbf&#x27;, &#x27;poly&#x27;, &#x27;sigmoid&#x27;]},\n",
       "             verbose=3)</pre></div></div></div><div class=\"sk-parallel\"><div class=\"sk-parallel-item\"><div class=\"sk-item\"><div class=\"sk-label-container\"><div class=\"sk-label sk-toggleable\"><input class=\"sk-toggleable__control sk-hidden--visually\" id=\"sk-estimator-id-2\" type=\"checkbox\" ><label for=\"sk-estimator-id-2\" class=\"sk-toggleable__label sk-toggleable__label-arrow\">estimator: SVR</label><div class=\"sk-toggleable__content\"><pre>SVR()</pre></div></div></div><div class=\"sk-serial\"><div class=\"sk-item\"><div class=\"sk-estimator sk-toggleable\"><input class=\"sk-toggleable__control sk-hidden--visually\" id=\"sk-estimator-id-3\" type=\"checkbox\" ><label for=\"sk-estimator-id-3\" class=\"sk-toggleable__label sk-toggleable__label-arrow\">SVR</label><div class=\"sk-toggleable__content\"><pre>SVR()</pre></div></div></div></div></div></div></div></div></div></div>"
      ],
      "text/plain": [
       "GridSearchCV(estimator=SVR(), n_jobs=-1,\n",
       "             param_grid={'C': [0.1, 1, 10, 100],\n",
       "                         'kernel': ['linear', 'rbf', 'poly', 'sigmoid']},\n",
       "             verbose=3)"
      ]
     },
     "execution_count": 10,
     "metadata": {},
     "output_type": "execute_result"
    }
   ],
   "source": [
    "# Define the SVR parameter grid  #model creation\n",
    "param_grid = {\n",
    "    'C': [0.1, 1, 10, 100],\n",
    "    'kernel': ['linear', 'rbf', 'poly', 'sigmoid']}\n",
    "    #'gamma':['scale','auto']}\n",
    "grid_svr= GridSearchCV(SVR(), param_grid,refit = True, verbose=3,n_jobs=-1)\n",
    "grid_svr.fit(X_train, y_train)\n",
    "\n",
    "#verbose=3 (folds) 3=granular detail of each fitting process for individual folds in cross-validations, \n",
    "#refit =true best performance\n",
    "\n",
    "#TypeError: Cannot clone object. You should provide an instance of scikit-learn estimator instead of a class.to fix, use SVR()\n",
    "#ValueError: X should be a square kernel matrix  to fix, remove 'precomputed' kernel"
   ]
  },
  {
   "cell_type": "code",
   "execution_count": 12,
   "id": "49a876cb",
   "metadata": {},
   "outputs": [],
   "source": [
    "ypred_svr_grid=grid_svr.predict(X_test)\n",
    "#y_pred predected output"
   ]
  },
  {
   "cell_type": "code",
   "execution_count": 13,
   "id": "4d76b270",
   "metadata": {},
   "outputs": [],
   "source": [
    "#evaluation metric\n",
    "#from sklearn.metrics import r2_score\n",
    "rscore_svr_grid=r2_score(y_test,ypred_svr_grid)"
   ]
  },
  {
   "cell_type": "code",
   "execution_count": 15,
   "id": "6bf97bb6",
   "metadata": {},
   "outputs": [
    {
     "name": "stdout",
     "output_type": "stream",
     "text": [
      "R2 Score = 0.543221029625509 The Best Parameters are: {'C': 100, 'kernel': 'linear'}\n"
     ]
    }
   ],
   "source": [
    "print(\"R2 Score =\", rscore_svr_grid, \"The Best Parameters are: {}\".format(grid_svr.best_params_))\n",
    "#svr accuracy"
   ]
  },
  {
   "cell_type": "code",
   "execution_count": 17,
   "id": "ebf8a6ff",
   "metadata": {},
   "outputs": [
    {
     "name": "stdout",
     "output_type": "stream",
     "text": [
      "    mean_fit_time  std_fit_time  mean_score_time  std_score_time param_C  \\\n",
      "0        0.370995      0.112867         0.035636        0.017933     0.1   \n",
      "1        0.623561      0.449659         0.100394        0.016563     0.1   \n",
      "2        0.264216      0.054178         0.052578        0.012351     0.1   \n",
      "3        0.360118      0.129868         0.068519        0.006246     0.1   \n",
      "4        0.480219      0.345000         0.032338        0.015716       1   \n",
      "5        0.239102      0.023470         0.126318        0.012529       1   \n",
      "6        0.228025      0.045251         0.032684        0.016811       1   \n",
      "7        0.307770      0.061969         0.066226        0.023592       1   \n",
      "8        0.827548      0.539407         0.043976        0.013060      10   \n",
      "9        0.225022      0.032893         0.126594        0.012241      10   \n",
      "10       0.197384      0.024574         0.047799        0.003252      10   \n",
      "11       0.565036      0.593284         0.060256        0.011653      10   \n",
      "12       0.499616      0.025046         0.051068        0.011403     100   \n",
      "13       0.273290      0.028478         0.126203        0.018904     100   \n",
      "14       0.252760      0.030836         0.034827        0.014506     100   \n",
      "15       0.379343      0.262460         0.055052        0.011975     100   \n",
      "\n",
      "   param_kernel                           params  split0_test_score  \\\n",
      "0        linear   {'C': 0.1, 'kernel': 'linear'}          -0.181268   \n",
      "1           rbf      {'C': 0.1, 'kernel': 'rbf'}          -0.041657   \n",
      "2          poly     {'C': 0.1, 'kernel': 'poly'}          -0.041617   \n",
      "3       sigmoid  {'C': 0.1, 'kernel': 'sigmoid'}          -0.041644   \n",
      "4        linear     {'C': 1, 'kernel': 'linear'}          -0.198970   \n",
      "5           rbf        {'C': 1, 'kernel': 'rbf'}          -0.041852   \n",
      "6          poly       {'C': 1, 'kernel': 'poly'}          -0.043425   \n",
      "7       sigmoid    {'C': 1, 'kernel': 'sigmoid'}          -0.041672   \n",
      "8        linear    {'C': 10, 'kernel': 'linear'}          -0.099760   \n",
      "9           rbf       {'C': 10, 'kernel': 'rbf'}          -0.045528   \n",
      "10         poly      {'C': 10, 'kernel': 'poly'}          -0.133873   \n",
      "11      sigmoid   {'C': 10, 'kernel': 'sigmoid'}          -0.042905   \n",
      "12       linear   {'C': 100, 'kernel': 'linear'}           0.477977   \n",
      "13          rbf      {'C': 100, 'kernel': 'rbf'}          -0.159400   \n",
      "14         poly     {'C': 100, 'kernel': 'poly'}          -0.176443   \n",
      "15      sigmoid  {'C': 100, 'kernel': 'sigmoid'}          -0.059917   \n",
      "\n",
      "    split1_test_score  split2_test_score  split3_test_score  \\\n",
      "0            0.010902          -0.237338          -0.251521   \n",
      "1           -0.037799          -0.148648          -0.138806   \n",
      "2           -0.033979          -0.144404          -0.140246   \n",
      "3           -0.038096          -0.148769          -0.138661   \n",
      "4            0.026207          -0.236532          -0.247434   \n",
      "5           -0.035208          -0.148254          -0.140027   \n",
      "6           -0.001460          -0.134933          -0.141522   \n",
      "7           -0.038142          -0.149431          -0.138533   \n",
      "8            0.109493          -0.135991          -0.141288   \n",
      "9           -0.013207          -0.151887          -0.152035   \n",
      "10           0.025681          -0.212948          -0.238252   \n",
      "11          -0.039604          -0.150140          -0.138654   \n",
      "12           0.582290           0.432153           0.459036   \n",
      "13           0.013622          -0.243218          -0.255507   \n",
      "14           0.036546          -0.230748          -0.265770   \n",
      "15          -0.064209          -0.155539          -0.153417   \n",
      "\n",
      "    split4_test_score  mean_test_score  std_test_score  rank_test_score  \n",
      "0           -0.166514        -0.165148        0.093730               16  \n",
      "1           -0.142005        -0.101783        0.050782                7  \n",
      "2           -0.141505        -0.100350        0.051148                4  \n",
      "3           -0.142154        -0.101864        0.050735                8  \n",
      "4           -0.157802        -0.162906        0.099655               15  \n",
      "5           -0.142002        -0.101469        0.051504                6  \n",
      "6           -0.130784        -0.090425        0.057174                3  \n",
      "7           -0.142376        -0.102031        0.050857                9  \n",
      "8           -0.075337        -0.068577        0.092259                2  \n",
      "9           -0.139456        -0.100423        0.059087                5  \n",
      "10          -0.159280        -0.143734        0.092482               12  \n",
      "11          -0.143294        -0.102919        0.050492               10  \n",
      "12           0.439536         0.478198        0.054438                1  \n",
      "13          -0.167180        -0.162337        0.096142               14  \n",
      "14          -0.171797        -0.161643        0.105089               13  \n",
      "15          -0.160198        -0.118656        0.046280               11  \n"
     ]
    }
   ],
   "source": [
    "#Table Format all the values\n",
    "svr_result=grid_svr.cv_results_\n",
    "svr_table=pd.DataFrame.from_dict(svr_result)\n",
    "print(svr_table)"
   ]
  },
  {
   "cell_type": "code",
   "execution_count": null,
   "id": "910f5759",
   "metadata": {},
   "outputs": [],
   "source": []
  },
  {
   "cell_type": "code",
   "execution_count": null,
   "id": "4388dc22",
   "metadata": {},
   "outputs": [],
   "source": []
  },
  {
   "cell_type": "code",
   "execution_count": null,
   "id": "7d5486c9",
   "metadata": {},
   "outputs": [],
   "source": []
  },
  {
   "cell_type": "markdown",
   "id": "c2e6b683",
   "metadata": {},
   "source": [
    "# DecisionTree"
   ]
  },
  {
   "cell_type": "code",
   "execution_count": null,
   "id": "d5ad87e7",
   "metadata": {},
   "outputs": [],
   "source": [
    "# document\n",
    "# https://scikit-learn.org/stable/modules/generated/sklearn.tree.DecisionTreeRegressor.html\n",
    "\n",
    "#friedman_mse (Mean Squared Error for Decision Trees)\n",
    "#Poisson criterion can only be used if all target values are non-negative. \n",
    "#If the target has negatives, you'll get a ValueError"
   ]
  },
  {
   "cell_type": "code",
   "execution_count": 18,
   "id": "2655c6df",
   "metadata": {},
   "outputs": [
    {
     "name": "stdout",
     "output_type": "stream",
     "text": [
      "Fitting 5 folds for each of 24 candidates, totalling 120 fits\n"
     ]
    },
    {
     "name": "stderr",
     "output_type": "stream",
     "text": [
      "C:\\Users\\hp\\anaconda3\\Lib\\site-packages\\sklearn\\model_selection\\_validation.py:425: FitFailedWarning: \n",
      "40 fits failed out of a total of 120.\n",
      "The score on these train-test partitions for these parameters will be set to nan.\n",
      "If these failures are not expected, you can try to debug them by setting error_score='raise'.\n",
      "\n",
      "Below are more details about the failures:\n",
      "--------------------------------------------------------------------------------\n",
      "16 fits failed with the following error:\n",
      "Traceback (most recent call last):\n",
      "  File \"C:\\Users\\hp\\anaconda3\\Lib\\site-packages\\sklearn\\model_selection\\_validation.py\", line 732, in _fit_and_score\n",
      "    estimator.fit(X_train, y_train, **fit_params)\n",
      "  File \"C:\\Users\\hp\\anaconda3\\Lib\\site-packages\\sklearn\\base.py\", line 1144, in wrapper\n",
      "    estimator._validate_params()\n",
      "  File \"C:\\Users\\hp\\anaconda3\\Lib\\site-packages\\sklearn\\base.py\", line 637, in _validate_params\n",
      "    validate_parameter_constraints(\n",
      "  File \"C:\\Users\\hp\\anaconda3\\Lib\\site-packages\\sklearn\\utils\\_param_validation.py\", line 95, in validate_parameter_constraints\n",
      "    raise InvalidParameterError(\n",
      "sklearn.utils._param_validation.InvalidParameterError: The 'max_features' parameter of DecisionTreeRegressor must be an int in the range [1, inf), a float in the range (0.0, 1.0], a str among {'sqrt', 'log2'} or None. Got 'auto' instead.\n",
      "\n",
      "--------------------------------------------------------------------------------\n",
      "24 fits failed with the following error:\n",
      "Traceback (most recent call last):\n",
      "  File \"C:\\Users\\hp\\anaconda3\\Lib\\site-packages\\sklearn\\model_selection\\_validation.py\", line 732, in _fit_and_score\n",
      "    estimator.fit(X_train, y_train, **fit_params)\n",
      "  File \"C:\\Users\\hp\\anaconda3\\Lib\\site-packages\\sklearn\\base.py\", line 1144, in wrapper\n",
      "    estimator._validate_params()\n",
      "  File \"C:\\Users\\hp\\anaconda3\\Lib\\site-packages\\sklearn\\base.py\", line 637, in _validate_params\n",
      "    validate_parameter_constraints(\n",
      "  File \"C:\\Users\\hp\\anaconda3\\Lib\\site-packages\\sklearn\\utils\\_param_validation.py\", line 95, in validate_parameter_constraints\n",
      "    raise InvalidParameterError(\n",
      "sklearn.utils._param_validation.InvalidParameterError: The 'max_features' parameter of DecisionTreeRegressor must be an int in the range [1, inf), a float in the range (0.0, 1.0], a str among {'log2', 'sqrt'} or None. Got 'auto' instead.\n",
      "\n",
      "  warnings.warn(some_fits_failed_message, FitFailedWarning)\n",
      "C:\\Users\\hp\\anaconda3\\Lib\\site-packages\\sklearn\\model_selection\\_search.py:976: UserWarning: One or more of the test scores are non-finite: [       nan        nan 0.63554981 0.62821303 0.64204901 0.61245598\n",
      "        nan        nan 0.64118792 0.56556231 0.6371045  0.61830741\n",
      "        nan        nan 0.62289178 0.62128608 0.61549599 0.60576761\n",
      "        nan        nan 0.62721014 0.52633989 0.58016895 0.59214231]\n",
      "  warnings.warn(\n"
     ]
    },
    {
     "data": {
      "text/html": [
       "<style>#sk-container-id-2 {color: black;}#sk-container-id-2 pre{padding: 0;}#sk-container-id-2 div.sk-toggleable {background-color: white;}#sk-container-id-2 label.sk-toggleable__label {cursor: pointer;display: block;width: 100%;margin-bottom: 0;padding: 0.3em;box-sizing: border-box;text-align: center;}#sk-container-id-2 label.sk-toggleable__label-arrow:before {content: \"▸\";float: left;margin-right: 0.25em;color: #696969;}#sk-container-id-2 label.sk-toggleable__label-arrow:hover:before {color: black;}#sk-container-id-2 div.sk-estimator:hover label.sk-toggleable__label-arrow:before {color: black;}#sk-container-id-2 div.sk-toggleable__content {max-height: 0;max-width: 0;overflow: hidden;text-align: left;background-color: #f0f8ff;}#sk-container-id-2 div.sk-toggleable__content pre {margin: 0.2em;color: black;border-radius: 0.25em;background-color: #f0f8ff;}#sk-container-id-2 input.sk-toggleable__control:checked~div.sk-toggleable__content {max-height: 200px;max-width: 100%;overflow: auto;}#sk-container-id-2 input.sk-toggleable__control:checked~label.sk-toggleable__label-arrow:before {content: \"▾\";}#sk-container-id-2 div.sk-estimator input.sk-toggleable__control:checked~label.sk-toggleable__label {background-color: #d4ebff;}#sk-container-id-2 div.sk-label input.sk-toggleable__control:checked~label.sk-toggleable__label {background-color: #d4ebff;}#sk-container-id-2 input.sk-hidden--visually {border: 0;clip: rect(1px 1px 1px 1px);clip: rect(1px, 1px, 1px, 1px);height: 1px;margin: -1px;overflow: hidden;padding: 0;position: absolute;width: 1px;}#sk-container-id-2 div.sk-estimator {font-family: monospace;background-color: #f0f8ff;border: 1px dotted black;border-radius: 0.25em;box-sizing: border-box;margin-bottom: 0.5em;}#sk-container-id-2 div.sk-estimator:hover {background-color: #d4ebff;}#sk-container-id-2 div.sk-parallel-item::after {content: \"\";width: 100%;border-bottom: 1px solid gray;flex-grow: 1;}#sk-container-id-2 div.sk-label:hover label.sk-toggleable__label {background-color: #d4ebff;}#sk-container-id-2 div.sk-serial::before {content: \"\";position: absolute;border-left: 1px solid gray;box-sizing: border-box;top: 0;bottom: 0;left: 50%;z-index: 0;}#sk-container-id-2 div.sk-serial {display: flex;flex-direction: column;align-items: center;background-color: white;padding-right: 0.2em;padding-left: 0.2em;position: relative;}#sk-container-id-2 div.sk-item {position: relative;z-index: 1;}#sk-container-id-2 div.sk-parallel {display: flex;align-items: stretch;justify-content: center;background-color: white;position: relative;}#sk-container-id-2 div.sk-item::before, #sk-container-id-2 div.sk-parallel-item::before {content: \"\";position: absolute;border-left: 1px solid gray;box-sizing: border-box;top: 0;bottom: 0;left: 50%;z-index: -1;}#sk-container-id-2 div.sk-parallel-item {display: flex;flex-direction: column;z-index: 1;position: relative;background-color: white;}#sk-container-id-2 div.sk-parallel-item:first-child::after {align-self: flex-end;width: 50%;}#sk-container-id-2 div.sk-parallel-item:last-child::after {align-self: flex-start;width: 50%;}#sk-container-id-2 div.sk-parallel-item:only-child::after {width: 0;}#sk-container-id-2 div.sk-dashed-wrapped {border: 1px dashed gray;margin: 0 0.4em 0.5em 0.4em;box-sizing: border-box;padding-bottom: 0.4em;background-color: white;}#sk-container-id-2 div.sk-label label {font-family: monospace;font-weight: bold;display: inline-block;line-height: 1.2em;}#sk-container-id-2 div.sk-label-container {text-align: center;}#sk-container-id-2 div.sk-container {/* jupyter's `normalize.less` sets `[hidden] { display: none; }` but bootstrap.min.css set `[hidden] { display: none !important; }` so we also need the `!important` here to be able to override the default hidden behavior on the sphinx rendered scikit-learn.org. See: https://github.com/scikit-learn/scikit-learn/issues/21755 */display: inline-block !important;position: relative;}#sk-container-id-2 div.sk-text-repr-fallback {display: none;}</style><div id=\"sk-container-id-2\" class=\"sk-top-container\"><div class=\"sk-text-repr-fallback\"><pre>GridSearchCV(estimator=DecisionTreeRegressor(), n_jobs=-1,\n",
       "             param_grid={&#x27;criterion&#x27;: [&#x27;squared_error&#x27;, &#x27;friedman_mse&#x27;,\n",
       "                                       &#x27;absolute_error&#x27;, &#x27;poisson&#x27;],\n",
       "                         &#x27;max_features&#x27;: [&#x27;auto&#x27;, &#x27;sqrt&#x27;, &#x27;log2&#x27;],\n",
       "                         &#x27;splitter&#x27;: [&#x27;best&#x27;, &#x27;random&#x27;]},\n",
       "             verbose=3)</pre><b>In a Jupyter environment, please rerun this cell to show the HTML representation or trust the notebook. <br />On GitHub, the HTML representation is unable to render, please try loading this page with nbviewer.org.</b></div><div class=\"sk-container\" hidden><div class=\"sk-item sk-dashed-wrapped\"><div class=\"sk-label-container\"><div class=\"sk-label sk-toggleable\"><input class=\"sk-toggleable__control sk-hidden--visually\" id=\"sk-estimator-id-4\" type=\"checkbox\" ><label for=\"sk-estimator-id-4\" class=\"sk-toggleable__label sk-toggleable__label-arrow\">GridSearchCV</label><div class=\"sk-toggleable__content\"><pre>GridSearchCV(estimator=DecisionTreeRegressor(), n_jobs=-1,\n",
       "             param_grid={&#x27;criterion&#x27;: [&#x27;squared_error&#x27;, &#x27;friedman_mse&#x27;,\n",
       "                                       &#x27;absolute_error&#x27;, &#x27;poisson&#x27;],\n",
       "                         &#x27;max_features&#x27;: [&#x27;auto&#x27;, &#x27;sqrt&#x27;, &#x27;log2&#x27;],\n",
       "                         &#x27;splitter&#x27;: [&#x27;best&#x27;, &#x27;random&#x27;]},\n",
       "             verbose=3)</pre></div></div></div><div class=\"sk-parallel\"><div class=\"sk-parallel-item\"><div class=\"sk-item\"><div class=\"sk-label-container\"><div class=\"sk-label sk-toggleable\"><input class=\"sk-toggleable__control sk-hidden--visually\" id=\"sk-estimator-id-5\" type=\"checkbox\" ><label for=\"sk-estimator-id-5\" class=\"sk-toggleable__label sk-toggleable__label-arrow\">estimator: DecisionTreeRegressor</label><div class=\"sk-toggleable__content\"><pre>DecisionTreeRegressor()</pre></div></div></div><div class=\"sk-serial\"><div class=\"sk-item\"><div class=\"sk-estimator sk-toggleable\"><input class=\"sk-toggleable__control sk-hidden--visually\" id=\"sk-estimator-id-6\" type=\"checkbox\" ><label for=\"sk-estimator-id-6\" class=\"sk-toggleable__label sk-toggleable__label-arrow\">DecisionTreeRegressor</label><div class=\"sk-toggleable__content\"><pre>DecisionTreeRegressor()</pre></div></div></div></div></div></div></div></div></div></div>"
      ],
      "text/plain": [
       "GridSearchCV(estimator=DecisionTreeRegressor(), n_jobs=-1,\n",
       "             param_grid={'criterion': ['squared_error', 'friedman_mse',\n",
       "                                       'absolute_error', 'poisson'],\n",
       "                         'max_features': ['auto', 'sqrt', 'log2'],\n",
       "                         'splitter': ['best', 'random']},\n",
       "             verbose=3)"
      ]
     },
     "execution_count": 18,
     "metadata": {},
     "output_type": "execute_result"
    }
   ],
   "source": [
    "#model creation\n",
    "#param_grid = {'criterion':['mse','mae','friedman_mse'],  \n",
    "param_grid = {'criterion':['squared_error', 'friedman_mse', 'absolute_error', 'poisson'],\n",
    "'max_features': ['auto','sqrt','log2'],\n",
    "'splitter':['best','random']}\n",
    "grid_dt_regressor = GridSearchCV(DecisionTreeRegressor(), param_grid, refit = True, verbose= 3,n_jobs=-1)\n",
    "# fitting the model for grid search\n",
    "grid_dt_regressor.fit(X_train, y_train)"
   ]
  },
  {
   "cell_type": "code",
   "execution_count": 19,
   "id": "f07a0ff2",
   "metadata": {},
   "outputs": [],
   "source": [
    "ypred_dt_grid=grid_dt_regressor.predict(X_test)\n",
    "#y_pred predected output"
   ]
  },
  {
   "cell_type": "code",
   "execution_count": 21,
   "id": "3d74dd98",
   "metadata": {},
   "outputs": [],
   "source": [
    "#evaluation metric\n",
    "dt_rscore_grid=r2_score(y_test,ypred_dt_grid)"
   ]
  },
  {
   "cell_type": "code",
   "execution_count": 22,
   "id": "c9fffe21",
   "metadata": {},
   "outputs": [
    {
     "name": "stdout",
     "output_type": "stream",
     "text": [
      "The R_score value for best parameter {'criterion': 'squared_error', 'max_features': 'log2', 'splitter': 'best'}: 0.6861667031315879\n"
     ]
    }
   ],
   "source": [
    "print(\"The R_score value for best parameter {}:\".format(grid_dt_regressor.best_params_),dt_rscore_grid)\n",
    "#decision tree R value (accuracy)"
   ]
  },
  {
   "cell_type": "code",
   "execution_count": 24,
   "id": "3d247766",
   "metadata": {},
   "outputs": [
    {
     "name": "stdout",
     "output_type": "stream",
     "text": [
      "    mean_fit_time  std_fit_time  mean_score_time  std_score_time  \\\n",
      "0        0.002309      0.003687         0.000000        0.000000   \n",
      "1        0.009168      0.009002         0.000000        0.000000   \n",
      "2        0.018014      0.006279         0.022650        0.020695   \n",
      "3        0.020286      0.020224         0.002417        0.003456   \n",
      "4        0.017891      0.004088         0.004888        0.004458   \n",
      "5        0.009762      0.004565         0.008154        0.007023   \n",
      "6        0.000000      0.000000         0.000000        0.000000   \n",
      "7        0.004203      0.005736         0.000000        0.000000   \n",
      "8        0.015382      0.002231         0.006933        0.007605   \n",
      "9        0.021527      0.012676         0.009620        0.012932   \n",
      "10       0.014346      0.005819         0.004698        0.007595   \n",
      "11       0.015881      0.003758         0.006953        0.002946   \n",
      "12       0.001204      0.002407         0.000000        0.000000   \n",
      "13       0.000989      0.001977         0.000000        0.000000   \n",
      "14       0.048181      0.017919         0.015816        0.016929   \n",
      "15       0.041006      0.012575         0.011568        0.014253   \n",
      "16       0.051367      0.017675         0.007135        0.006311   \n",
      "17       0.037506      0.012907         0.006833        0.008425   \n",
      "18       0.003099      0.006197         0.000000        0.000000   \n",
      "19       0.001344      0.002169         0.000000        0.000000   \n",
      "20       0.028030      0.017579         0.003239        0.006478   \n",
      "21       0.016782      0.002984         0.007033        0.003046   \n",
      "22       0.021530      0.010949         0.007784        0.004790   \n",
      "23       0.014703      0.005883         0.005042        0.005987   \n",
      "\n",
      "   param_criterion param_max_features param_splitter  \\\n",
      "0    squared_error               auto           best   \n",
      "1    squared_error               auto         random   \n",
      "2    squared_error               sqrt           best   \n",
      "3    squared_error               sqrt         random   \n",
      "4    squared_error               log2           best   \n",
      "5    squared_error               log2         random   \n",
      "6     friedman_mse               auto           best   \n",
      "7     friedman_mse               auto         random   \n",
      "8     friedman_mse               sqrt           best   \n",
      "9     friedman_mse               sqrt         random   \n",
      "10    friedman_mse               log2           best   \n",
      "11    friedman_mse               log2         random   \n",
      "12  absolute_error               auto           best   \n",
      "13  absolute_error               auto         random   \n",
      "14  absolute_error               sqrt           best   \n",
      "15  absolute_error               sqrt         random   \n",
      "16  absolute_error               log2           best   \n",
      "17  absolute_error               log2         random   \n",
      "18         poisson               auto           best   \n",
      "19         poisson               auto         random   \n",
      "20         poisson               sqrt           best   \n",
      "21         poisson               sqrt         random   \n",
      "22         poisson               log2           best   \n",
      "23         poisson               log2         random   \n",
      "\n",
      "                                               params  split0_test_score  \\\n",
      "0   {'criterion': 'squared_error', 'max_features':...                NaN   \n",
      "1   {'criterion': 'squared_error', 'max_features':...                NaN   \n",
      "2   {'criterion': 'squared_error', 'max_features':...           0.834667   \n",
      "3   {'criterion': 'squared_error', 'max_features':...           0.785242   \n",
      "4   {'criterion': 'squared_error', 'max_features':...           0.743772   \n",
      "5   {'criterion': 'squared_error', 'max_features':...           0.729990   \n",
      "6   {'criterion': 'friedman_mse', 'max_features': ...                NaN   \n",
      "7   {'criterion': 'friedman_mse', 'max_features': ...                NaN   \n",
      "8   {'criterion': 'friedman_mse', 'max_features': ...           0.721895   \n",
      "9   {'criterion': 'friedman_mse', 'max_features': ...           0.658369   \n",
      "10  {'criterion': 'friedman_mse', 'max_features': ...           0.808944   \n",
      "11  {'criterion': 'friedman_mse', 'max_features': ...           0.798602   \n",
      "12  {'criterion': 'absolute_error', 'max_features'...                NaN   \n",
      "13  {'criterion': 'absolute_error', 'max_features'...                NaN   \n",
      "14  {'criterion': 'absolute_error', 'max_features'...           0.712717   \n",
      "15  {'criterion': 'absolute_error', 'max_features'...           0.723607   \n",
      "16  {'criterion': 'absolute_error', 'max_features'...           0.762454   \n",
      "17  {'criterion': 'absolute_error', 'max_features'...           0.718293   \n",
      "18  {'criterion': 'poisson', 'max_features': 'auto...                NaN   \n",
      "19  {'criterion': 'poisson', 'max_features': 'auto...                NaN   \n",
      "20  {'criterion': 'poisson', 'max_features': 'sqrt...           0.781200   \n",
      "21  {'criterion': 'poisson', 'max_features': 'sqrt...           0.640706   \n",
      "22  {'criterion': 'poisson', 'max_features': 'log2...           0.662478   \n",
      "23  {'criterion': 'poisson', 'max_features': 'log2...           0.646115   \n",
      "\n",
      "    split1_test_score  split2_test_score  split3_test_score  \\\n",
      "0                 NaN                NaN                NaN   \n",
      "1                 NaN                NaN                NaN   \n",
      "2            0.649737           0.553985           0.507082   \n",
      "3            0.505729           0.614830           0.586705   \n",
      "4            0.628407           0.533543           0.679872   \n",
      "5            0.583855           0.521091           0.694465   \n",
      "6                 NaN                NaN                NaN   \n",
      "7                 NaN                NaN                NaN   \n",
      "8            0.643826           0.550126           0.596622   \n",
      "9            0.489737           0.565531           0.572761   \n",
      "10           0.566447           0.566060           0.595295   \n",
      "11           0.597766           0.466306           0.571858   \n",
      "12                NaN                NaN                NaN   \n",
      "13                NaN                NaN                NaN   \n",
      "14           0.639689           0.564140           0.641247   \n",
      "15           0.649107           0.632906           0.429961   \n",
      "16           0.547345           0.616676           0.626579   \n",
      "17           0.496143           0.620453           0.565952   \n",
      "18                NaN                NaN                NaN   \n",
      "19                NaN                NaN                NaN   \n",
      "20           0.570116           0.592150           0.651112   \n",
      "21           0.502521           0.559521           0.359886   \n",
      "22           0.626396           0.613678           0.645897   \n",
      "23           0.596644           0.575500           0.653798   \n",
      "\n",
      "    split4_test_score  mean_test_score  std_test_score  rank_test_score  \n",
      "0                 NaN              NaN             NaN               17  \n",
      "1                 NaN              NaN             NaN               17  \n",
      "2            0.632278         0.635550        0.112264                4  \n",
      "3            0.648560         0.628213        0.091626                5  \n",
      "4            0.624651         0.642049        0.069340                1  \n",
      "5            0.532880         0.612456        0.084897               11  \n",
      "6                 NaN              NaN             NaN               17  \n",
      "7                 NaN              NaN             NaN               17  \n",
      "8            0.693470         0.641188        0.062502                2  \n",
      "9            0.541414         0.565562        0.054768               15  \n",
      "10           0.648776         0.637104        0.091053                3  \n",
      "11           0.657005         0.618307        0.109259                9  \n",
      "12                NaN              NaN             NaN               17  \n",
      "13                NaN              NaN             NaN               17  \n",
      "14           0.556666         0.622892        0.057490                7  \n",
      "15           0.670850         0.621286        0.100440                8  \n",
      "16           0.524426         0.615496        0.083257               10  \n",
      "17           0.627996         0.605768        0.073450               12  \n",
      "18                NaN              NaN             NaN               17  \n",
      "19                NaN              NaN             NaN               17  \n",
      "20           0.541473         0.627210        0.084999                6  \n",
      "21           0.569066         0.526340        0.094107               16  \n",
      "22           0.352395         0.580169        0.115096               14  \n",
      "23           0.488655         0.592142        0.059534               13  \n"
     ]
    }
   ],
   "source": [
    "#Table Format all the values\n",
    "dt_result=grid_dt_regressor.cv_results_\n",
    "dt_table=pd.DataFrame.from_dict(dt_result)\n",
    "print(dt_table)"
   ]
  },
  {
   "cell_type": "markdown",
   "id": "94bbb36d",
   "metadata": {},
   "source": [
    "# Random Forest"
   ]
  },
  {
   "cell_type": "code",
   "execution_count": null,
   "id": "50e2351e",
   "metadata": {},
   "outputs": [],
   "source": [
    "#document\n",
    "#https://scikit-learn.org/stable/modules/generated/sklearn.ensemble.RandomForestRegressor.html"
   ]
  },
  {
   "cell_type": "code",
   "execution_count": 26,
   "id": "7638bb1f",
   "metadata": {},
   "outputs": [
    {
     "name": "stdout",
     "output_type": "stream",
     "text": [
      "Fitting 5 folds for each of 36 candidates, totalling 180 fits\n"
     ]
    },
    {
     "name": "stderr",
     "output_type": "stream",
     "text": [
      "C:\\Users\\hp\\anaconda3\\Lib\\site-packages\\sklearn\\model_selection\\_validation.py:425: FitFailedWarning: \n",
      "60 fits failed out of a total of 180.\n",
      "The score on these train-test partitions for these parameters will be set to nan.\n",
      "If these failures are not expected, you can try to debug them by setting error_score='raise'.\n",
      "\n",
      "Below are more details about the failures:\n",
      "--------------------------------------------------------------------------------\n",
      "36 fits failed with the following error:\n",
      "Traceback (most recent call last):\n",
      "  File \"C:\\Users\\hp\\anaconda3\\Lib\\site-packages\\sklearn\\model_selection\\_validation.py\", line 732, in _fit_and_score\n",
      "    estimator.fit(X_train, y_train, **fit_params)\n",
      "  File \"C:\\Users\\hp\\anaconda3\\Lib\\site-packages\\sklearn\\base.py\", line 1144, in wrapper\n",
      "    estimator._validate_params()\n",
      "  File \"C:\\Users\\hp\\anaconda3\\Lib\\site-packages\\sklearn\\base.py\", line 637, in _validate_params\n",
      "    validate_parameter_constraints(\n",
      "  File \"C:\\Users\\hp\\anaconda3\\Lib\\site-packages\\sklearn\\utils\\_param_validation.py\", line 95, in validate_parameter_constraints\n",
      "    raise InvalidParameterError(\n",
      "sklearn.utils._param_validation.InvalidParameterError: The 'max_features' parameter of RandomForestRegressor must be an int in the range [1, inf), a float in the range (0.0, 1.0], a str among {'sqrt', 'log2'} or None. Got 'auto' instead.\n",
      "\n",
      "--------------------------------------------------------------------------------\n",
      "24 fits failed with the following error:\n",
      "Traceback (most recent call last):\n",
      "  File \"C:\\Users\\hp\\anaconda3\\Lib\\site-packages\\sklearn\\model_selection\\_validation.py\", line 732, in _fit_and_score\n",
      "    estimator.fit(X_train, y_train, **fit_params)\n",
      "  File \"C:\\Users\\hp\\anaconda3\\Lib\\site-packages\\sklearn\\base.py\", line 1144, in wrapper\n",
      "    estimator._validate_params()\n",
      "  File \"C:\\Users\\hp\\anaconda3\\Lib\\site-packages\\sklearn\\base.py\", line 637, in _validate_params\n",
      "    validate_parameter_constraints(\n",
      "  File \"C:\\Users\\hp\\anaconda3\\Lib\\site-packages\\sklearn\\utils\\_param_validation.py\", line 95, in validate_parameter_constraints\n",
      "    raise InvalidParameterError(\n",
      "sklearn.utils._param_validation.InvalidParameterError: The 'max_features' parameter of RandomForestRegressor must be an int in the range [1, inf), a float in the range (0.0, 1.0], a str among {'log2', 'sqrt'} or None. Got 'auto' instead.\n",
      "\n",
      "  warnings.warn(some_fits_failed_message, FitFailedWarning)\n",
      "C:\\Users\\hp\\anaconda3\\Lib\\site-packages\\sklearn\\model_selection\\_search.py:976: UserWarning: One or more of the test scores are non-finite: [       nan        nan        nan 0.79247496 0.80754215 0.81041586\n",
      " 0.77742286 0.81013159 0.80931032        nan        nan        nan\n",
      " 0.78662387 0.809224   0.81208341 0.78733849 0.80882998 0.81283796\n",
      "        nan        nan        nan 0.78695594 0.80461171 0.80596888\n",
      " 0.78991076 0.80915686 0.80794565        nan        nan        nan\n",
      " 0.78153403 0.80765082 0.80752358 0.80095504 0.80529995 0.80763894]\n",
      "  warnings.warn(\n",
      "C:\\Users\\hp\\anaconda3\\Lib\\site-packages\\sklearn\\base.py:1151: DataConversionWarning: A column-vector y was passed when a 1d array was expected. Please change the shape of y to (n_samples,), for example using ravel().\n",
      "  return fit_method(estimator, *args, **kwargs)\n"
     ]
    },
    {
     "data": {
      "text/html": [
       "<style>#sk-container-id-3 {color: black;}#sk-container-id-3 pre{padding: 0;}#sk-container-id-3 div.sk-toggleable {background-color: white;}#sk-container-id-3 label.sk-toggleable__label {cursor: pointer;display: block;width: 100%;margin-bottom: 0;padding: 0.3em;box-sizing: border-box;text-align: center;}#sk-container-id-3 label.sk-toggleable__label-arrow:before {content: \"▸\";float: left;margin-right: 0.25em;color: #696969;}#sk-container-id-3 label.sk-toggleable__label-arrow:hover:before {color: black;}#sk-container-id-3 div.sk-estimator:hover label.sk-toggleable__label-arrow:before {color: black;}#sk-container-id-3 div.sk-toggleable__content {max-height: 0;max-width: 0;overflow: hidden;text-align: left;background-color: #f0f8ff;}#sk-container-id-3 div.sk-toggleable__content pre {margin: 0.2em;color: black;border-radius: 0.25em;background-color: #f0f8ff;}#sk-container-id-3 input.sk-toggleable__control:checked~div.sk-toggleable__content {max-height: 200px;max-width: 100%;overflow: auto;}#sk-container-id-3 input.sk-toggleable__control:checked~label.sk-toggleable__label-arrow:before {content: \"▾\";}#sk-container-id-3 div.sk-estimator input.sk-toggleable__control:checked~label.sk-toggleable__label {background-color: #d4ebff;}#sk-container-id-3 div.sk-label input.sk-toggleable__control:checked~label.sk-toggleable__label {background-color: #d4ebff;}#sk-container-id-3 input.sk-hidden--visually {border: 0;clip: rect(1px 1px 1px 1px);clip: rect(1px, 1px, 1px, 1px);height: 1px;margin: -1px;overflow: hidden;padding: 0;position: absolute;width: 1px;}#sk-container-id-3 div.sk-estimator {font-family: monospace;background-color: #f0f8ff;border: 1px dotted black;border-radius: 0.25em;box-sizing: border-box;margin-bottom: 0.5em;}#sk-container-id-3 div.sk-estimator:hover {background-color: #d4ebff;}#sk-container-id-3 div.sk-parallel-item::after {content: \"\";width: 100%;border-bottom: 1px solid gray;flex-grow: 1;}#sk-container-id-3 div.sk-label:hover label.sk-toggleable__label {background-color: #d4ebff;}#sk-container-id-3 div.sk-serial::before {content: \"\";position: absolute;border-left: 1px solid gray;box-sizing: border-box;top: 0;bottom: 0;left: 50%;z-index: 0;}#sk-container-id-3 div.sk-serial {display: flex;flex-direction: column;align-items: center;background-color: white;padding-right: 0.2em;padding-left: 0.2em;position: relative;}#sk-container-id-3 div.sk-item {position: relative;z-index: 1;}#sk-container-id-3 div.sk-parallel {display: flex;align-items: stretch;justify-content: center;background-color: white;position: relative;}#sk-container-id-3 div.sk-item::before, #sk-container-id-3 div.sk-parallel-item::before {content: \"\";position: absolute;border-left: 1px solid gray;box-sizing: border-box;top: 0;bottom: 0;left: 50%;z-index: -1;}#sk-container-id-3 div.sk-parallel-item {display: flex;flex-direction: column;z-index: 1;position: relative;background-color: white;}#sk-container-id-3 div.sk-parallel-item:first-child::after {align-self: flex-end;width: 50%;}#sk-container-id-3 div.sk-parallel-item:last-child::after {align-self: flex-start;width: 50%;}#sk-container-id-3 div.sk-parallel-item:only-child::after {width: 0;}#sk-container-id-3 div.sk-dashed-wrapped {border: 1px dashed gray;margin: 0 0.4em 0.5em 0.4em;box-sizing: border-box;padding-bottom: 0.4em;background-color: white;}#sk-container-id-3 div.sk-label label {font-family: monospace;font-weight: bold;display: inline-block;line-height: 1.2em;}#sk-container-id-3 div.sk-label-container {text-align: center;}#sk-container-id-3 div.sk-container {/* jupyter's `normalize.less` sets `[hidden] { display: none; }` but bootstrap.min.css set `[hidden] { display: none !important; }` so we also need the `!important` here to be able to override the default hidden behavior on the sphinx rendered scikit-learn.org. See: https://github.com/scikit-learn/scikit-learn/issues/21755 */display: inline-block !important;position: relative;}#sk-container-id-3 div.sk-text-repr-fallback {display: none;}</style><div id=\"sk-container-id-3\" class=\"sk-top-container\"><div class=\"sk-text-repr-fallback\"><pre>GridSearchCV(estimator=RandomForestRegressor(), n_jobs=-1,\n",
       "             param_grid={&#x27;criterion&#x27;: [&#x27;squared_error&#x27;, &#x27;absolute_error&#x27;,\n",
       "                                       &#x27;friedman_mse&#x27;, &#x27;poisson&#x27;],\n",
       "                         &#x27;max_features&#x27;: [&#x27;auto&#x27;, &#x27;sqrt&#x27;, &#x27;log2&#x27;],\n",
       "                         &#x27;n_estimators&#x27;: [10, 50, 100]},\n",
       "             verbose=3)</pre><b>In a Jupyter environment, please rerun this cell to show the HTML representation or trust the notebook. <br />On GitHub, the HTML representation is unable to render, please try loading this page with nbviewer.org.</b></div><div class=\"sk-container\" hidden><div class=\"sk-item sk-dashed-wrapped\"><div class=\"sk-label-container\"><div class=\"sk-label sk-toggleable\"><input class=\"sk-toggleable__control sk-hidden--visually\" id=\"sk-estimator-id-7\" type=\"checkbox\" ><label for=\"sk-estimator-id-7\" class=\"sk-toggleable__label sk-toggleable__label-arrow\">GridSearchCV</label><div class=\"sk-toggleable__content\"><pre>GridSearchCV(estimator=RandomForestRegressor(), n_jobs=-1,\n",
       "             param_grid={&#x27;criterion&#x27;: [&#x27;squared_error&#x27;, &#x27;absolute_error&#x27;,\n",
       "                                       &#x27;friedman_mse&#x27;, &#x27;poisson&#x27;],\n",
       "                         &#x27;max_features&#x27;: [&#x27;auto&#x27;, &#x27;sqrt&#x27;, &#x27;log2&#x27;],\n",
       "                         &#x27;n_estimators&#x27;: [10, 50, 100]},\n",
       "             verbose=3)</pre></div></div></div><div class=\"sk-parallel\"><div class=\"sk-parallel-item\"><div class=\"sk-item\"><div class=\"sk-label-container\"><div class=\"sk-label sk-toggleable\"><input class=\"sk-toggleable__control sk-hidden--visually\" id=\"sk-estimator-id-8\" type=\"checkbox\" ><label for=\"sk-estimator-id-8\" class=\"sk-toggleable__label sk-toggleable__label-arrow\">estimator: RandomForestRegressor</label><div class=\"sk-toggleable__content\"><pre>RandomForestRegressor()</pre></div></div></div><div class=\"sk-serial\"><div class=\"sk-item\"><div class=\"sk-estimator sk-toggleable\"><input class=\"sk-toggleable__control sk-hidden--visually\" id=\"sk-estimator-id-9\" type=\"checkbox\" ><label for=\"sk-estimator-id-9\" class=\"sk-toggleable__label sk-toggleable__label-arrow\">RandomForestRegressor</label><div class=\"sk-toggleable__content\"><pre>RandomForestRegressor()</pre></div></div></div></div></div></div></div></div></div></div>"
      ],
      "text/plain": [
       "GridSearchCV(estimator=RandomForestRegressor(), n_jobs=-1,\n",
       "             param_grid={'criterion': ['squared_error', 'absolute_error',\n",
       "                                       'friedman_mse', 'poisson'],\n",
       "                         'max_features': ['auto', 'sqrt', 'log2'],\n",
       "                         'n_estimators': [10, 50, 100]},\n",
       "             verbose=3)"
      ]
     },
     "execution_count": 26,
     "metadata": {},
     "output_type": "execute_result"
    }
   ],
   "source": [
    "#import RF model algarithm\n",
    "#param_grid = {'criterion':['mse','mae'],\n",
    "param_grid = {'criterion':['squared_error', 'absolute_error', 'friedman_mse', 'poisson'],\n",
    "'max_features': ['auto','sqrt','log2'],\n",
    "'n_estimators':[10,50,100]}\n",
    "reg_grid_rf = GridSearchCV(RandomForestRegressor(), param_grid, refit = True, verbose= 3,n_jobs=-1)\n",
    "# fitting the model for grid search\n",
    "reg_grid_rf.fit(X_train, y_train)\n",
    "\n",
    "#model creation"
   ]
  },
  {
   "cell_type": "code",
   "execution_count": 28,
   "id": "07226c3d",
   "metadata": {},
   "outputs": [],
   "source": [
    "y_pred_rf_grid=reg_grid_rf.predict(X_test)\n",
    "#y_ore predicted score"
   ]
  },
  {
   "cell_type": "code",
   "execution_count": 29,
   "id": "d8639df2",
   "metadata": {},
   "outputs": [],
   "source": [
    "#evaluation metric\n",
    "rf_rscore_grid=r2_score(y_test,y_pred_rf_grid)"
   ]
  },
  {
   "cell_type": "code",
   "execution_count": 31,
   "id": "c2fdb43d",
   "metadata": {},
   "outputs": [
    {
     "name": "stdout",
     "output_type": "stream",
     "text": [
      "The R_score value for best parameter {'criterion': 'absolute_error', 'max_features': 'log2', 'n_estimators': 100}: 0.870569493553363\n"
     ]
    }
   ],
   "source": [
    "print(\"The R_score value for best parameter {}:\".format(reg_grid_rf.best_params_),rf_rscore_grid)"
   ]
  },
  {
   "cell_type": "code",
   "execution_count": 33,
   "id": "faeef1ae",
   "metadata": {},
   "outputs": [
    {
     "name": "stdout",
     "output_type": "stream",
     "text": [
      "    mean_fit_time  std_fit_time  mean_score_time  std_score_time  \\\n",
      "0        0.006036      0.005855         0.000000        0.000000   \n",
      "1        0.003108      0.004060         0.000000        0.000000   \n",
      "2        0.000000      0.000000         0.000000        0.000000   \n",
      "3        0.379232      0.033048         0.027593        0.022790   \n",
      "4        0.687390      0.122706         0.032156        0.003930   \n",
      "5        1.073195      0.030026         0.046252        0.003386   \n",
      "6        0.124398      0.010770         0.015042        0.002857   \n",
      "7        0.538027      0.019593         0.028409        0.006014   \n",
      "8        1.061307      0.028985         0.043854        0.004300   \n",
      "9        0.003784      0.006058         0.000000        0.000000   \n",
      "10       0.006265      0.007684         0.000000        0.000000   \n",
      "11       0.005803      0.007107         0.000000        0.000000   \n",
      "12       0.276798      0.041163         0.012664        0.005623   \n",
      "13       1.196388      0.076365         0.028173        0.004696   \n",
      "14       2.423512      0.121646         0.043843        0.006303   \n",
      "15       0.260359      0.007389         0.009479        0.006901   \n",
      "16       1.221105      0.048450         0.025163        0.006889   \n",
      "17       2.441071      0.111861         0.041396        0.005712   \n",
      "18       0.000000      0.000000         0.000000        0.000000   \n",
      "19       0.003125      0.006249         0.000000        0.000000   \n",
      "20       0.002941      0.005882         0.000000        0.000000   \n",
      "21       0.109449      0.002488         0.012593        0.006299   \n",
      "22       0.519279      0.029696         0.026366        0.007018   \n",
      "23       1.034625      0.014912         0.049582        0.009141   \n",
      "24       0.116648      0.008327         0.009376        0.007655   \n",
      "25       0.525583      0.009278         0.028788        0.004013   \n",
      "26       1.058193      0.011820         0.046862        0.009016   \n",
      "27       0.005007      0.006165         0.000000        0.000000   \n",
      "28       0.002602      0.005204         0.000000        0.000000   \n",
      "29       0.000000      0.000000         0.000000        0.000000   \n",
      "30       0.120907      0.006793         0.009491        0.007402   \n",
      "31       0.565960      0.008753         0.031604        0.003023   \n",
      "32       1.133922      0.011654         0.047674        0.004690   \n",
      "33       0.109331      0.003225         0.015642        0.000036   \n",
      "34       0.585129      0.031975         0.024497        0.008830   \n",
      "35       0.991702      0.034833         0.041231        0.008793   \n",
      "\n",
      "   param_criterion param_max_features param_n_estimators  \\\n",
      "0    squared_error               auto                 10   \n",
      "1    squared_error               auto                 50   \n",
      "2    squared_error               auto                100   \n",
      "3    squared_error               sqrt                 10   \n",
      "4    squared_error               sqrt                 50   \n",
      "5    squared_error               sqrt                100   \n",
      "6    squared_error               log2                 10   \n",
      "7    squared_error               log2                 50   \n",
      "8    squared_error               log2                100   \n",
      "9   absolute_error               auto                 10   \n",
      "10  absolute_error               auto                 50   \n",
      "11  absolute_error               auto                100   \n",
      "12  absolute_error               sqrt                 10   \n",
      "13  absolute_error               sqrt                 50   \n",
      "14  absolute_error               sqrt                100   \n",
      "15  absolute_error               log2                 10   \n",
      "16  absolute_error               log2                 50   \n",
      "17  absolute_error               log2                100   \n",
      "18    friedman_mse               auto                 10   \n",
      "19    friedman_mse               auto                 50   \n",
      "20    friedman_mse               auto                100   \n",
      "21    friedman_mse               sqrt                 10   \n",
      "22    friedman_mse               sqrt                 50   \n",
      "23    friedman_mse               sqrt                100   \n",
      "24    friedman_mse               log2                 10   \n",
      "25    friedman_mse               log2                 50   \n",
      "26    friedman_mse               log2                100   \n",
      "27         poisson               auto                 10   \n",
      "28         poisson               auto                 50   \n",
      "29         poisson               auto                100   \n",
      "30         poisson               sqrt                 10   \n",
      "31         poisson               sqrt                 50   \n",
      "32         poisson               sqrt                100   \n",
      "33         poisson               log2                 10   \n",
      "34         poisson               log2                 50   \n",
      "35         poisson               log2                100   \n",
      "\n",
      "                                               params  split0_test_score  \\\n",
      "0   {'criterion': 'squared_error', 'max_features':...                NaN   \n",
      "1   {'criterion': 'squared_error', 'max_features':...                NaN   \n",
      "2   {'criterion': 'squared_error', 'max_features':...                NaN   \n",
      "3   {'criterion': 'squared_error', 'max_features':...           0.838425   \n",
      "4   {'criterion': 'squared_error', 'max_features':...           0.867029   \n",
      "5   {'criterion': 'squared_error', 'max_features':...           0.868351   \n",
      "6   {'criterion': 'squared_error', 'max_features':...           0.838595   \n",
      "7   {'criterion': 'squared_error', 'max_features':...           0.866127   \n",
      "8   {'criterion': 'squared_error', 'max_features':...           0.862749   \n",
      "9   {'criterion': 'absolute_error', 'max_features'...                NaN   \n",
      "10  {'criterion': 'absolute_error', 'max_features'...                NaN   \n",
      "11  {'criterion': 'absolute_error', 'max_features'...                NaN   \n",
      "12  {'criterion': 'absolute_error', 'max_features'...           0.846410   \n",
      "13  {'criterion': 'absolute_error', 'max_features'...           0.865215   \n",
      "14  {'criterion': 'absolute_error', 'max_features'...           0.866839   \n",
      "15  {'criterion': 'absolute_error', 'max_features'...           0.828271   \n",
      "16  {'criterion': 'absolute_error', 'max_features'...           0.855634   \n",
      "17  {'criterion': 'absolute_error', 'max_features'...           0.860722   \n",
      "18  {'criterion': 'friedman_mse', 'max_features': ...                NaN   \n",
      "19  {'criterion': 'friedman_mse', 'max_features': ...                NaN   \n",
      "20  {'criterion': 'friedman_mse', 'max_features': ...                NaN   \n",
      "21  {'criterion': 'friedman_mse', 'max_features': ...           0.846984   \n",
      "22  {'criterion': 'friedman_mse', 'max_features': ...           0.854952   \n",
      "23  {'criterion': 'friedman_mse', 'max_features': ...           0.861577   \n",
      "24  {'criterion': 'friedman_mse', 'max_features': ...           0.838682   \n",
      "25  {'criterion': 'friedman_mse', 'max_features': ...           0.872056   \n",
      "26  {'criterion': 'friedman_mse', 'max_features': ...           0.863255   \n",
      "27  {'criterion': 'poisson', 'max_features': 'auto...                NaN   \n",
      "28  {'criterion': 'poisson', 'max_features': 'auto...                NaN   \n",
      "29  {'criterion': 'poisson', 'max_features': 'auto...                NaN   \n",
      "30  {'criterion': 'poisson', 'max_features': 'sqrt...           0.836651   \n",
      "31  {'criterion': 'poisson', 'max_features': 'sqrt...           0.865895   \n",
      "32  {'criterion': 'poisson', 'max_features': 'sqrt...           0.865181   \n",
      "33  {'criterion': 'poisson', 'max_features': 'log2...           0.849758   \n",
      "34  {'criterion': 'poisson', 'max_features': 'log2...           0.859155   \n",
      "35  {'criterion': 'poisson', 'max_features': 'log2...           0.856847   \n",
      "\n",
      "    split1_test_score  split2_test_score  split3_test_score  \\\n",
      "0                 NaN                NaN                NaN   \n",
      "1                 NaN                NaN                NaN   \n",
      "2                 NaN                NaN                NaN   \n",
      "3            0.787985           0.784973           0.802951   \n",
      "4            0.785451           0.795678           0.825807   \n",
      "5            0.793103           0.799643           0.822356   \n",
      "6            0.768874           0.743812           0.783980   \n",
      "7            0.794112           0.796920           0.824631   \n",
      "8            0.792772           0.800387           0.823484   \n",
      "9                 NaN                NaN                NaN   \n",
      "10                NaN                NaN                NaN   \n",
      "11                NaN                NaN                NaN   \n",
      "12           0.777563           0.774328           0.784593   \n",
      "13           0.792152           0.801520           0.824926   \n",
      "14           0.800163           0.801162           0.822403   \n",
      "15           0.773084           0.784207           0.783856   \n",
      "16           0.790463           0.801846           0.829036   \n",
      "17           0.793329           0.803251           0.833385   \n",
      "18                NaN                NaN                NaN   \n",
      "19                NaN                NaN                NaN   \n",
      "20                NaN                NaN                NaN   \n",
      "21           0.766439           0.775526           0.803628   \n",
      "22           0.786849           0.793876           0.820641   \n",
      "23           0.789539           0.792930           0.818766   \n",
      "24           0.761287           0.809366           0.797607   \n",
      "25           0.786319           0.792301           0.826173   \n",
      "26           0.791075           0.800550           0.820018   \n",
      "27                NaN                NaN                NaN   \n",
      "28                NaN                NaN                NaN   \n",
      "29                NaN                NaN                NaN   \n",
      "30           0.772239           0.764742           0.802962   \n",
      "31           0.788443           0.801482           0.819106   \n",
      "32           0.790077           0.799554           0.821315   \n",
      "33           0.777837           0.793832           0.809259   \n",
      "34           0.794766           0.792030           0.812442   \n",
      "35           0.792016           0.796690           0.823019   \n",
      "\n",
      "    split4_test_score  mean_test_score  std_test_score  rank_test_score  \n",
      "0                 NaN              NaN             NaN               25  \n",
      "1                 NaN              NaN             NaN               25  \n",
      "2                 NaN              NaN             NaN               25  \n",
      "3            0.748041         0.792475        0.029230               18  \n",
      "4            0.763746         0.807542        0.035831               12  \n",
      "5            0.768626         0.810416        0.033649                3  \n",
      "6            0.751853         0.777423        0.033590               24  \n",
      "7            0.768868         0.810132        0.033104                4  \n",
      "8            0.767160         0.809310        0.032207                5  \n",
      "9                 NaN              NaN             NaN               25  \n",
      "10                NaN              NaN             NaN               25  \n",
      "11                NaN              NaN             NaN               25  \n",
      "12           0.750226         0.786624        0.032052               22  \n",
      "13           0.762307         0.809224        0.034449                6  \n",
      "14           0.769851         0.812083        0.032092                2  \n",
      "15           0.767273         0.787338        0.021463               20  \n",
      "16           0.767170         0.808830        0.030727                8  \n",
      "17           0.773504         0.812838        0.030773                1  \n",
      "18                NaN              NaN             NaN               25  \n",
      "19                NaN              NaN             NaN               25  \n",
      "20                NaN              NaN             NaN               25  \n",
      "21           0.742202         0.786956        0.035877               21  \n",
      "22           0.766741         0.804612        0.030516               16  \n",
      "23           0.767032         0.805969        0.032286               14  \n",
      "24           0.742612         0.789911        0.034272               19  \n",
      "25           0.768934         0.809157        0.036522                7  \n",
      "26           0.764830         0.807946        0.032873                9  \n",
      "27                NaN              NaN             NaN               25  \n",
      "28                NaN              NaN             NaN               25  \n",
      "29                NaN              NaN             NaN               25  \n",
      "30           0.731077         0.781534        0.035809               23  \n",
      "31           0.763329         0.807651        0.034337               10  \n",
      "32           0.761491         0.807524        0.034645               13  \n",
      "33           0.774089         0.800955        0.027414               17  \n",
      "34           0.768107         0.805300        0.030403               15  \n",
      "35           0.769621         0.807639        0.029891               11  \n"
     ]
    }
   ],
   "source": [
    "#Table Format all the values\n",
    "rf_result=reg_grid_rf.cv_results_\n",
    "rf_table=pd.DataFrame.from_dict(rf_result)\n",
    "print(rf_table)"
   ]
  },
  {
   "cell_type": "code",
   "execution_count": 34,
   "id": "2c9e1a51",
   "metadata": {},
   "outputs": [
    {
     "name": "stdout",
     "output_type": "stream",
     "text": [
      "rf_rscore_grid 0.870569493553363\n",
      "dt_rscore_grid 0.6861667031315879\n",
      "rscore_svr_grid 0.543221029625509\n"
     ]
    }
   ],
   "source": [
    "print(\"rf_rscore_grid\",rf_rscore_grid)\n",
    "print(\"dt_rscore_grid\",dt_rscore_grid)\n",
    "print(\"rscore_svr_grid\",rscore_svr_grid)"
   ]
  },
  {
   "cell_type": "code",
   "execution_count": 35,
   "id": "a374ddc8",
   "metadata": {},
   "outputs": [],
   "source": [
    "#save best model\n",
    "import pickle\n",
    "filename=\"best_regression_model_grid.sav\"\n",
    "pickle.dump(reg_grid_rf,open(filename,'wb'))  #best r score grid regressor mentioned here\n",
    "#reg_gb is regressor"
   ]
  },
  {
   "cell_type": "code",
   "execution_count": 36,
   "id": "7f5547f6",
   "metadata": {},
   "outputs": [],
   "source": [
    "#load model\n",
    "loaded_model=pickle.load(open(\"best_regression_model_grid.sav\",'rb'))"
   ]
  },
  {
   "cell_type": "code",
   "execution_count": 37,
   "id": "9c8389e7",
   "metadata": {},
   "outputs": [
    {
     "data": {
      "text/plain": [
       "Index(['age', 'bmi', 'children', 'charges', 'sex_male', 'smoker_yes'], dtype='object')"
      ]
     },
     "execution_count": 37,
     "metadata": {},
     "output_type": "execute_result"
    }
   ],
   "source": [
    "data.columns"
   ]
  },
  {
   "cell_type": "code",
   "execution_count": 38,
   "id": "d3e0003a",
   "metadata": {},
   "outputs": [
    {
     "name": "stdout",
     "output_type": "stream",
     "text": [
      "Charges [6134.93]\n"
     ]
    },
    {
     "name": "stderr",
     "output_type": "stream",
     "text": [
      "C:\\Users\\hp\\anaconda3\\Lib\\site-packages\\sklearn\\base.py:464: UserWarning: X does not have valid feature names, but RandomForestRegressor was fitted with feature names\n",
      "  warnings.warn(\n"
     ]
    }
   ],
   "source": [
    "# get target using multi fixed inputs \n",
    "result=loaded_model.predict([[36,23,1,1,0]])\n",
    "#[][] to fix value error\n",
    "print(\"Charges\",result)"
   ]
  },
  {
   "cell_type": "code",
   "execution_count": null,
   "id": "ad6a9396",
   "metadata": {},
   "outputs": [],
   "source": [
    "#another way to validate"
   ]
  },
  {
   "cell_type": "code",
   "execution_count": null,
   "id": "4938efc8",
   "metadata": {},
   "outputs": [],
   "source": [
    "# get target using dynamic fixed inputs\n",
    "#input pass dynamically\n",
    "age_input=float(input(\"Age:\"))\n",
    "bmi_input=float(input(\"bmi\"))\n",
    "children_input=float(input(\"children \"))\n",
    "sex_male_input=int(input(\"sex_male 0 or 1:\"))\n",
    "smoker_yes_input=int(input(\"smoker_yes 0 or 1:\"))"
   ]
  },
  {
   "cell_type": "code",
   "execution_count": null,
   "id": "4ce34c22",
   "metadata": {},
   "outputs": [],
   "source": [
    "result=loaded_model.predict([[age_input,bmi_input,children_input,sex_male_input,smoker_yes_input]])\n",
    "print(\"Total Charges are= \",result)"
   ]
  },
  {
   "cell_type": "markdown",
   "id": "9bf33512",
   "metadata": {},
   "source": [
    "# Linear and Multi Linear not supported (GSV)\n",
    "# gamma should remove for better performance"
   ]
  },
  {
   "cell_type": "code",
   "execution_count": null,
   "id": "d06b8ecb",
   "metadata": {},
   "outputs": [],
   "source": [
    "#from sklearn.linear_model import LinearRegression\n",
    "#mlregressor=LinearRegression()\n",
    "#mlregressor.fit(X_train,y_train)"
   ]
  },
  {
   "cell_type": "code",
   "execution_count": null,
   "id": "e5903d19",
   "metadata": {},
   "outputs": [],
   "source": [
    "# Viewing the b1,b2 are weights and bo is bias \n",
    "#checking weight and bias \n",
    "#weight=regressor.coef_\n",
    "#print(\"Weight of the model={}\".format(weight))\n",
    "#bais=regressor.intercept_\n",
    "#print(\"Intercept of the model={}\".format(bais))"
   ]
  },
  {
   "cell_type": "code",
   "execution_count": null,
   "id": "e48728c2",
   "metadata": {},
   "outputs": [],
   "source": [
    "#y_pred_mlr=mlregressor.predict(X_test)\n",
    "#y_pred predected output"
   ]
  },
  {
   "cell_type": "code",
   "execution_count": null,
   "id": "29cac3b7",
   "metadata": {},
   "outputs": [],
   "source": [
    "#evaluation metric\n",
    "#from sklearn.metrics import r2_score\n",
    "#mlr_r_score=r2_score(y_test,y_pred_mlr)"
   ]
  },
  {
   "cell_type": "code",
   "execution_count": null,
   "id": "32fba9c0",
   "metadata": {},
   "outputs": [],
   "source": [
    "#mlr_r_score"
   ]
  }
 ],
 "metadata": {
  "kernelspec": {
   "display_name": "Python 3 (ipykernel)",
   "language": "python",
   "name": "python3"
  },
  "language_info": {
   "codemirror_mode": {
    "name": "ipython",
    "version": 3
   },
   "file_extension": ".py",
   "mimetype": "text/x-python",
   "name": "python",
   "nbconvert_exporter": "python",
   "pygments_lexer": "ipython3",
   "version": "3.11.4"
  }
 },
 "nbformat": 4,
 "nbformat_minor": 5
}
