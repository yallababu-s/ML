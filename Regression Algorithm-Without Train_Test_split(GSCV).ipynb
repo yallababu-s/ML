{
 "cells": [
  {
   "cell_type": "markdown",
   "id": "7955a6e0",
   "metadata": {},
   "source": [
    "# Problem Statement or Requirement:\n",
    "A client’s requirement is, he wants to predict the insurance charges based on the several parameters. The Client has provided the dataset of the same.\n",
    "As a data scientist, you must develop a model which will predict the insurance charges.\n"
   ]
  },
  {
   "cell_type": "code",
   "execution_count": 2,
   "id": "7cb0b022",
   "metadata": {},
   "outputs": [],
   "source": [
    "#import libraries\n",
    "import pandas as pd\n",
    "import numpy as np"
   ]
  },
  {
   "cell_type": "code",
   "execution_count": 3,
   "id": "1df57454",
   "metadata": {},
   "outputs": [],
   "source": [
    "data=pd.read_csv(\"insurance_pre.csv\")"
   ]
  },
  {
   "cell_type": "code",
   "execution_count": 4,
   "id": "557ac063",
   "metadata": {},
   "outputs": [
    {
     "data": {
      "text/html": [
       "<div>\n",
       "<style scoped>\n",
       "    .dataframe tbody tr th:only-of-type {\n",
       "        vertical-align: middle;\n",
       "    }\n",
       "\n",
       "    .dataframe tbody tr th {\n",
       "        vertical-align: top;\n",
       "    }\n",
       "\n",
       "    .dataframe thead th {\n",
       "        text-align: right;\n",
       "    }\n",
       "</style>\n",
       "<table border=\"1\" class=\"dataframe\">\n",
       "  <thead>\n",
       "    <tr style=\"text-align: right;\">\n",
       "      <th></th>\n",
       "      <th>age</th>\n",
       "      <th>sex</th>\n",
       "      <th>bmi</th>\n",
       "      <th>children</th>\n",
       "      <th>smoker</th>\n",
       "      <th>charges</th>\n",
       "    </tr>\n",
       "  </thead>\n",
       "  <tbody>\n",
       "    <tr>\n",
       "      <th>0</th>\n",
       "      <td>19</td>\n",
       "      <td>female</td>\n",
       "      <td>27.900</td>\n",
       "      <td>0</td>\n",
       "      <td>yes</td>\n",
       "      <td>16884.92400</td>\n",
       "    </tr>\n",
       "    <tr>\n",
       "      <th>1</th>\n",
       "      <td>18</td>\n",
       "      <td>male</td>\n",
       "      <td>33.770</td>\n",
       "      <td>1</td>\n",
       "      <td>no</td>\n",
       "      <td>1725.55230</td>\n",
       "    </tr>\n",
       "    <tr>\n",
       "      <th>2</th>\n",
       "      <td>28</td>\n",
       "      <td>male</td>\n",
       "      <td>33.000</td>\n",
       "      <td>3</td>\n",
       "      <td>no</td>\n",
       "      <td>4449.46200</td>\n",
       "    </tr>\n",
       "    <tr>\n",
       "      <th>3</th>\n",
       "      <td>33</td>\n",
       "      <td>male</td>\n",
       "      <td>22.705</td>\n",
       "      <td>0</td>\n",
       "      <td>no</td>\n",
       "      <td>21984.47061</td>\n",
       "    </tr>\n",
       "    <tr>\n",
       "      <th>4</th>\n",
       "      <td>32</td>\n",
       "      <td>male</td>\n",
       "      <td>28.880</td>\n",
       "      <td>0</td>\n",
       "      <td>no</td>\n",
       "      <td>3866.85520</td>\n",
       "    </tr>\n",
       "    <tr>\n",
       "      <th>...</th>\n",
       "      <td>...</td>\n",
       "      <td>...</td>\n",
       "      <td>...</td>\n",
       "      <td>...</td>\n",
       "      <td>...</td>\n",
       "      <td>...</td>\n",
       "    </tr>\n",
       "    <tr>\n",
       "      <th>1333</th>\n",
       "      <td>50</td>\n",
       "      <td>male</td>\n",
       "      <td>30.970</td>\n",
       "      <td>3</td>\n",
       "      <td>no</td>\n",
       "      <td>10600.54830</td>\n",
       "    </tr>\n",
       "    <tr>\n",
       "      <th>1334</th>\n",
       "      <td>18</td>\n",
       "      <td>female</td>\n",
       "      <td>31.920</td>\n",
       "      <td>0</td>\n",
       "      <td>no</td>\n",
       "      <td>2205.98080</td>\n",
       "    </tr>\n",
       "    <tr>\n",
       "      <th>1335</th>\n",
       "      <td>18</td>\n",
       "      <td>female</td>\n",
       "      <td>36.850</td>\n",
       "      <td>0</td>\n",
       "      <td>no</td>\n",
       "      <td>1629.83350</td>\n",
       "    </tr>\n",
       "    <tr>\n",
       "      <th>1336</th>\n",
       "      <td>21</td>\n",
       "      <td>female</td>\n",
       "      <td>25.800</td>\n",
       "      <td>0</td>\n",
       "      <td>no</td>\n",
       "      <td>2007.94500</td>\n",
       "    </tr>\n",
       "    <tr>\n",
       "      <th>1337</th>\n",
       "      <td>61</td>\n",
       "      <td>female</td>\n",
       "      <td>29.070</td>\n",
       "      <td>0</td>\n",
       "      <td>yes</td>\n",
       "      <td>29141.36030</td>\n",
       "    </tr>\n",
       "  </tbody>\n",
       "</table>\n",
       "<p>1338 rows × 6 columns</p>\n",
       "</div>"
      ],
      "text/plain": [
       "      age     sex     bmi  children smoker      charges\n",
       "0      19  female  27.900         0    yes  16884.92400\n",
       "1      18    male  33.770         1     no   1725.55230\n",
       "2      28    male  33.000         3     no   4449.46200\n",
       "3      33    male  22.705         0     no  21984.47061\n",
       "4      32    male  28.880         0     no   3866.85520\n",
       "...   ...     ...     ...       ...    ...          ...\n",
       "1333   50    male  30.970         3     no  10600.54830\n",
       "1334   18  female  31.920         0     no   2205.98080\n",
       "1335   18  female  36.850         0     no   1629.83350\n",
       "1336   21  female  25.800         0     no   2007.94500\n",
       "1337   61  female  29.070         0    yes  29141.36030\n",
       "\n",
       "[1338 rows x 6 columns]"
      ]
     },
     "execution_count": 4,
     "metadata": {},
     "output_type": "execute_result"
    }
   ],
   "source": [
    "data"
   ]
  },
  {
   "cell_type": "code",
   "execution_count": 5,
   "id": "d8bca922",
   "metadata": {},
   "outputs": [
    {
     "data": {
      "text/plain": [
       "(1338, 6)"
      ]
     },
     "execution_count": 5,
     "metadata": {},
     "output_type": "execute_result"
    }
   ],
   "source": [
    "2.#basic info about the dataset (Total number of rows, columns)\n",
    "data.shape"
   ]
  },
  {
   "cell_type": "code",
   "execution_count": 6,
   "id": "43092956",
   "metadata": {},
   "outputs": [
    {
     "data": {
      "text/plain": [
       "Index(['age', 'sex', 'bmi', 'children', 'smoker', 'charges'], dtype='object')"
      ]
     },
     "execution_count": 6,
     "metadata": {},
     "output_type": "execute_result"
    }
   ],
   "source": [
    "data.columns"
   ]
  },
  {
   "cell_type": "code",
   "execution_count": 7,
   "id": "e3d6f772",
   "metadata": {},
   "outputs": [],
   "source": [
    "data = pd.get_dummies(data,drop_first=True)\n",
    "#dummies=One-Hot Encoding and  drop_first to remove repetetion "
   ]
  },
  {
   "cell_type": "code",
   "execution_count": 8,
   "id": "c71d8ee8",
   "metadata": {},
   "outputs": [],
   "source": [
    "data=data.astype(int)\n",
    "#2024 update to show 0 and 1"
   ]
  },
  {
   "cell_type": "code",
   "execution_count": 9,
   "id": "58ef47d4",
   "metadata": {},
   "outputs": [
    {
     "data": {
      "text/html": [
       "<div>\n",
       "<style scoped>\n",
       "    .dataframe tbody tr th:only-of-type {\n",
       "        vertical-align: middle;\n",
       "    }\n",
       "\n",
       "    .dataframe tbody tr th {\n",
       "        vertical-align: top;\n",
       "    }\n",
       "\n",
       "    .dataframe thead th {\n",
       "        text-align: right;\n",
       "    }\n",
       "</style>\n",
       "<table border=\"1\" class=\"dataframe\">\n",
       "  <thead>\n",
       "    <tr style=\"text-align: right;\">\n",
       "      <th></th>\n",
       "      <th>age</th>\n",
       "      <th>bmi</th>\n",
       "      <th>children</th>\n",
       "      <th>charges</th>\n",
       "      <th>sex_male</th>\n",
       "      <th>smoker_yes</th>\n",
       "    </tr>\n",
       "  </thead>\n",
       "  <tbody>\n",
       "    <tr>\n",
       "      <th>0</th>\n",
       "      <td>19</td>\n",
       "      <td>27</td>\n",
       "      <td>0</td>\n",
       "      <td>16884</td>\n",
       "      <td>0</td>\n",
       "      <td>1</td>\n",
       "    </tr>\n",
       "    <tr>\n",
       "      <th>1</th>\n",
       "      <td>18</td>\n",
       "      <td>33</td>\n",
       "      <td>1</td>\n",
       "      <td>1725</td>\n",
       "      <td>1</td>\n",
       "      <td>0</td>\n",
       "    </tr>\n",
       "    <tr>\n",
       "      <th>2</th>\n",
       "      <td>28</td>\n",
       "      <td>33</td>\n",
       "      <td>3</td>\n",
       "      <td>4449</td>\n",
       "      <td>1</td>\n",
       "      <td>0</td>\n",
       "    </tr>\n",
       "    <tr>\n",
       "      <th>3</th>\n",
       "      <td>33</td>\n",
       "      <td>22</td>\n",
       "      <td>0</td>\n",
       "      <td>21984</td>\n",
       "      <td>1</td>\n",
       "      <td>0</td>\n",
       "    </tr>\n",
       "    <tr>\n",
       "      <th>4</th>\n",
       "      <td>32</td>\n",
       "      <td>28</td>\n",
       "      <td>0</td>\n",
       "      <td>3866</td>\n",
       "      <td>1</td>\n",
       "      <td>0</td>\n",
       "    </tr>\n",
       "    <tr>\n",
       "      <th>...</th>\n",
       "      <td>...</td>\n",
       "      <td>...</td>\n",
       "      <td>...</td>\n",
       "      <td>...</td>\n",
       "      <td>...</td>\n",
       "      <td>...</td>\n",
       "    </tr>\n",
       "    <tr>\n",
       "      <th>1333</th>\n",
       "      <td>50</td>\n",
       "      <td>30</td>\n",
       "      <td>3</td>\n",
       "      <td>10600</td>\n",
       "      <td>1</td>\n",
       "      <td>0</td>\n",
       "    </tr>\n",
       "    <tr>\n",
       "      <th>1334</th>\n",
       "      <td>18</td>\n",
       "      <td>31</td>\n",
       "      <td>0</td>\n",
       "      <td>2205</td>\n",
       "      <td>0</td>\n",
       "      <td>0</td>\n",
       "    </tr>\n",
       "    <tr>\n",
       "      <th>1335</th>\n",
       "      <td>18</td>\n",
       "      <td>36</td>\n",
       "      <td>0</td>\n",
       "      <td>1629</td>\n",
       "      <td>0</td>\n",
       "      <td>0</td>\n",
       "    </tr>\n",
       "    <tr>\n",
       "      <th>1336</th>\n",
       "      <td>21</td>\n",
       "      <td>25</td>\n",
       "      <td>0</td>\n",
       "      <td>2007</td>\n",
       "      <td>0</td>\n",
       "      <td>0</td>\n",
       "    </tr>\n",
       "    <tr>\n",
       "      <th>1337</th>\n",
       "      <td>61</td>\n",
       "      <td>29</td>\n",
       "      <td>0</td>\n",
       "      <td>29141</td>\n",
       "      <td>0</td>\n",
       "      <td>1</td>\n",
       "    </tr>\n",
       "  </tbody>\n",
       "</table>\n",
       "<p>1338 rows × 6 columns</p>\n",
       "</div>"
      ],
      "text/plain": [
       "      age  bmi  children  charges  sex_male  smoker_yes\n",
       "0      19   27         0    16884         0           1\n",
       "1      18   33         1     1725         1           0\n",
       "2      28   33         3     4449         1           0\n",
       "3      33   22         0    21984         1           0\n",
       "4      32   28         0     3866         1           0\n",
       "...   ...  ...       ...      ...       ...         ...\n",
       "1333   50   30         3    10600         1           0\n",
       "1334   18   31         0     2205         0           0\n",
       "1335   18   36         0     1629         0           0\n",
       "1336   21   25         0     2007         0           0\n",
       "1337   61   29         0    29141         0           1\n",
       "\n",
       "[1338 rows x 6 columns]"
      ]
     },
     "execution_count": 9,
     "metadata": {},
     "output_type": "execute_result"
    }
   ],
   "source": [
    "data"
   ]
  },
  {
   "cell_type": "code",
   "execution_count": 10,
   "id": "55acdee7",
   "metadata": {},
   "outputs": [
    {
     "data": {
      "text/plain": [
       "Index(['age', 'bmi', 'children', 'charges', 'sex_male', 'smoker_yes'], dtype='object')"
      ]
     },
     "execution_count": 10,
     "metadata": {},
     "output_type": "execute_result"
    }
   ],
   "source": [
    "data.columns"
   ]
  },
  {
   "cell_type": "code",
   "execution_count": 11,
   "id": "2f8ad1d8",
   "metadata": {},
   "outputs": [],
   "source": [
    "# creating feature variables\n",
    "#multiple inputs\n",
    "indep=data[['age', 'bmi', 'children', 'sex_male', 'smoker_yes']]\n",
    "#one output\n",
    "dep=data[['charges']]"
   ]
  },
  {
   "cell_type": "code",
   "execution_count": null,
   "id": "a37d0c80",
   "metadata": {},
   "outputs": [],
   "source": [
    "## removed X_train,X_test,y_train,y_test   0.70 and 0.30 it will take care by GSV."
   ]
  },
  {
   "cell_type": "markdown",
   "id": "c3990f02",
   "metadata": {},
   "source": [
    "# GridSearchCV import libraries to all models"
   ]
  },
  {
   "cell_type": "code",
   "execution_count": 12,
   "id": "92e32866",
   "metadata": {},
   "outputs": [],
   "source": [
    "#import numpy as np\n",
    "from sklearn.svm import SVR\n",
    "from sklearn.tree import DecisionTreeRegressor\n",
    "from sklearn.ensemble import RandomForestRegressor\n",
    "from sklearn.model_selection import GridSearchCV\n",
    "from sklearn.metrics import r2_score\n",
    "from sklearn.datasets import make_regression"
   ]
  },
  {
   "cell_type": "markdown",
   "id": "3fc0deb7",
   "metadata": {},
   "source": [
    "# SVM : Super Vector Machine\n",
    "#SVR -regression"
   ]
  },
  {
   "cell_type": "code",
   "execution_count": null,
   "id": "dff16f1b",
   "metadata": {},
   "outputs": [],
   "source": [
    "##default regression:class sklearn.svm.SVR(*, kernel='rbf', degree=3, gamma='scale', coef0=0.0, tol=0.001, C=1.0, epsilon=0.1, \n",
    "#shrinking=True, cache_size=200, verbose=False, max_iter=-1)[source]\n",
    "#document  https://scikit-learn.org/stable/modules/generated/sklearn.svm.SVR.html"
   ]
  },
  {
   "cell_type": "code",
   "execution_count": 13,
   "id": "bae7c0d7",
   "metadata": {},
   "outputs": [],
   "source": [
    "import warnings\n",
    "from sklearn.exceptions import DataConversionWarning\n",
    "\n",
    "# Suppress the specific warning\n",
    "warnings.filterwarnings(action='ignore', category=DataConversionWarning)"
   ]
  },
  {
   "cell_type": "code",
   "execution_count": 14,
   "id": "a1a9049d",
   "metadata": {},
   "outputs": [
    {
     "name": "stdout",
     "output_type": "stream",
     "text": [
      "Fitting 5 folds for each of 16 candidates, totalling 80 fits\n"
     ]
    },
    {
     "data": {
      "text/html": [
       "<style>#sk-container-id-1 {color: black;}#sk-container-id-1 pre{padding: 0;}#sk-container-id-1 div.sk-toggleable {background-color: white;}#sk-container-id-1 label.sk-toggleable__label {cursor: pointer;display: block;width: 100%;margin-bottom: 0;padding: 0.3em;box-sizing: border-box;text-align: center;}#sk-container-id-1 label.sk-toggleable__label-arrow:before {content: \"▸\";float: left;margin-right: 0.25em;color: #696969;}#sk-container-id-1 label.sk-toggleable__label-arrow:hover:before {color: black;}#sk-container-id-1 div.sk-estimator:hover label.sk-toggleable__label-arrow:before {color: black;}#sk-container-id-1 div.sk-toggleable__content {max-height: 0;max-width: 0;overflow: hidden;text-align: left;background-color: #f0f8ff;}#sk-container-id-1 div.sk-toggleable__content pre {margin: 0.2em;color: black;border-radius: 0.25em;background-color: #f0f8ff;}#sk-container-id-1 input.sk-toggleable__control:checked~div.sk-toggleable__content {max-height: 200px;max-width: 100%;overflow: auto;}#sk-container-id-1 input.sk-toggleable__control:checked~label.sk-toggleable__label-arrow:before {content: \"▾\";}#sk-container-id-1 div.sk-estimator input.sk-toggleable__control:checked~label.sk-toggleable__label {background-color: #d4ebff;}#sk-container-id-1 div.sk-label input.sk-toggleable__control:checked~label.sk-toggleable__label {background-color: #d4ebff;}#sk-container-id-1 input.sk-hidden--visually {border: 0;clip: rect(1px 1px 1px 1px);clip: rect(1px, 1px, 1px, 1px);height: 1px;margin: -1px;overflow: hidden;padding: 0;position: absolute;width: 1px;}#sk-container-id-1 div.sk-estimator {font-family: monospace;background-color: #f0f8ff;border: 1px dotted black;border-radius: 0.25em;box-sizing: border-box;margin-bottom: 0.5em;}#sk-container-id-1 div.sk-estimator:hover {background-color: #d4ebff;}#sk-container-id-1 div.sk-parallel-item::after {content: \"\";width: 100%;border-bottom: 1px solid gray;flex-grow: 1;}#sk-container-id-1 div.sk-label:hover label.sk-toggleable__label {background-color: #d4ebff;}#sk-container-id-1 div.sk-serial::before {content: \"\";position: absolute;border-left: 1px solid gray;box-sizing: border-box;top: 0;bottom: 0;left: 50%;z-index: 0;}#sk-container-id-1 div.sk-serial {display: flex;flex-direction: column;align-items: center;background-color: white;padding-right: 0.2em;padding-left: 0.2em;position: relative;}#sk-container-id-1 div.sk-item {position: relative;z-index: 1;}#sk-container-id-1 div.sk-parallel {display: flex;align-items: stretch;justify-content: center;background-color: white;position: relative;}#sk-container-id-1 div.sk-item::before, #sk-container-id-1 div.sk-parallel-item::before {content: \"\";position: absolute;border-left: 1px solid gray;box-sizing: border-box;top: 0;bottom: 0;left: 50%;z-index: -1;}#sk-container-id-1 div.sk-parallel-item {display: flex;flex-direction: column;z-index: 1;position: relative;background-color: white;}#sk-container-id-1 div.sk-parallel-item:first-child::after {align-self: flex-end;width: 50%;}#sk-container-id-1 div.sk-parallel-item:last-child::after {align-self: flex-start;width: 50%;}#sk-container-id-1 div.sk-parallel-item:only-child::after {width: 0;}#sk-container-id-1 div.sk-dashed-wrapped {border: 1px dashed gray;margin: 0 0.4em 0.5em 0.4em;box-sizing: border-box;padding-bottom: 0.4em;background-color: white;}#sk-container-id-1 div.sk-label label {font-family: monospace;font-weight: bold;display: inline-block;line-height: 1.2em;}#sk-container-id-1 div.sk-label-container {text-align: center;}#sk-container-id-1 div.sk-container {/* jupyter's `normalize.less` sets `[hidden] { display: none; }` but bootstrap.min.css set `[hidden] { display: none !important; }` so we also need the `!important` here to be able to override the default hidden behavior on the sphinx rendered scikit-learn.org. See: https://github.com/scikit-learn/scikit-learn/issues/21755 */display: inline-block !important;position: relative;}#sk-container-id-1 div.sk-text-repr-fallback {display: none;}</style><div id=\"sk-container-id-1\" class=\"sk-top-container\"><div class=\"sk-text-repr-fallback\"><pre>GridSearchCV(estimator=SVR(), n_jobs=-1,\n",
       "             param_grid={&#x27;C&#x27;: [0.1, 1, 10, 100],\n",
       "                         &#x27;kernel&#x27;: [&#x27;linear&#x27;, &#x27;rbf&#x27;, &#x27;poly&#x27;, &#x27;sigmoid&#x27;]},\n",
       "             verbose=3)</pre><b>In a Jupyter environment, please rerun this cell to show the HTML representation or trust the notebook. <br />On GitHub, the HTML representation is unable to render, please try loading this page with nbviewer.org.</b></div><div class=\"sk-container\" hidden><div class=\"sk-item sk-dashed-wrapped\"><div class=\"sk-label-container\"><div class=\"sk-label sk-toggleable\"><input class=\"sk-toggleable__control sk-hidden--visually\" id=\"sk-estimator-id-1\" type=\"checkbox\" ><label for=\"sk-estimator-id-1\" class=\"sk-toggleable__label sk-toggleable__label-arrow\">GridSearchCV</label><div class=\"sk-toggleable__content\"><pre>GridSearchCV(estimator=SVR(), n_jobs=-1,\n",
       "             param_grid={&#x27;C&#x27;: [0.1, 1, 10, 100],\n",
       "                         &#x27;kernel&#x27;: [&#x27;linear&#x27;, &#x27;rbf&#x27;, &#x27;poly&#x27;, &#x27;sigmoid&#x27;]},\n",
       "             verbose=3)</pre></div></div></div><div class=\"sk-parallel\"><div class=\"sk-parallel-item\"><div class=\"sk-item\"><div class=\"sk-label-container\"><div class=\"sk-label sk-toggleable\"><input class=\"sk-toggleable__control sk-hidden--visually\" id=\"sk-estimator-id-2\" type=\"checkbox\" ><label for=\"sk-estimator-id-2\" class=\"sk-toggleable__label sk-toggleable__label-arrow\">estimator: SVR</label><div class=\"sk-toggleable__content\"><pre>SVR()</pre></div></div></div><div class=\"sk-serial\"><div class=\"sk-item\"><div class=\"sk-estimator sk-toggleable\"><input class=\"sk-toggleable__control sk-hidden--visually\" id=\"sk-estimator-id-3\" type=\"checkbox\" ><label for=\"sk-estimator-id-3\" class=\"sk-toggleable__label sk-toggleable__label-arrow\">SVR</label><div class=\"sk-toggleable__content\"><pre>SVR()</pre></div></div></div></div></div></div></div></div></div></div>"
      ],
      "text/plain": [
       "GridSearchCV(estimator=SVR(), n_jobs=-1,\n",
       "             param_grid={'C': [0.1, 1, 10, 100],\n",
       "                         'kernel': ['linear', 'rbf', 'poly', 'sigmoid']},\n",
       "             verbose=3)"
      ]
     },
     "execution_count": 14,
     "metadata": {},
     "output_type": "execute_result"
    }
   ],
   "source": [
    "# Define the SVR parameter grid  #model creation\n",
    "param_grid = {\n",
    "    'C': [0.1, 1, 10, 100],\n",
    "    'kernel': ['linear', 'rbf', 'poly', 'sigmoid']}\n",
    "    #'gamma':['scale','auto']}\n",
    "grid_svr= GridSearchCV(SVR(), param_grid,refit = True, verbose=3,n_jobs=-1)\n",
    "#grid_svr.fit(X_train, y_train)\n",
    "grid_svr.fit(indep,dep)\n",
    "\n",
    "#verbose=3 (folds) 3=granular detail of each fitting process for individual folds in cross-validations, \n",
    "#refit =true best performance"
   ]
  },
  {
   "cell_type": "code",
   "execution_count": 12,
   "id": "49a876cb",
   "metadata": {},
   "outputs": [],
   "source": [
    "#ypred_svr_grid=grid_svr.predict(X_test)\n",
    "#y_pred predected output"
   ]
  },
  {
   "cell_type": "code",
   "execution_count": 17,
   "id": "4d76b270",
   "metadata": {},
   "outputs": [],
   "source": [
    "#evaluation metric\n",
    "#from sklearn.metrics import r2_score\n",
    "#rscore_svr_grid=r2_score(y_test,ypred_svr_grid)\n"
   ]
  },
  {
   "cell_type": "code",
   "execution_count": 18,
   "id": "6bf97bb6",
   "metadata": {},
   "outputs": [],
   "source": [
    "#print(\"R2 Score =\", rscore_svr_grid, \"The Best Parameters are: {}\".format(grid_svr.best_params_))\n",
    "#svr accuracy"
   ]
  },
  {
   "cell_type": "code",
   "execution_count": 15,
   "id": "ebf8a6ff",
   "metadata": {},
   "outputs": [
    {
     "name": "stdout",
     "output_type": "stream",
     "text": [
      "    mean_fit_time  std_fit_time  mean_score_time  std_score_time param_C  \\\n",
      "0        0.596478      0.016154         0.060252        0.016154     0.1   \n",
      "1        0.491923      0.177876         0.141595        0.006258     0.1   \n",
      "2        0.243862      0.009643         0.047773        0.009938     0.1   \n",
      "3        0.317678      0.019047         0.069794        0.007266     0.1   \n",
      "4        0.249911      0.008302         0.033834        0.004878       1   \n",
      "5        0.321151      0.008206         0.159987        0.017635       1   \n",
      "6        0.257245      0.011046         0.045897        0.010041       1   \n",
      "7        0.325723      0.012986         0.061793        0.005862       1   \n",
      "8        0.299720      0.029936         0.039663        0.005023      10   \n",
      "9        0.292823      0.011428         0.156068        0.009828      10   \n",
      "10       0.288468      0.019289         0.047352        0.005060      10   \n",
      "11       0.366098      0.021491         0.070331        0.005320      10   \n",
      "12       0.639274      0.129150         0.045101        0.010007     100   \n",
      "13       0.340597      0.068155         0.158268        0.020338     100   \n",
      "14       0.298990      0.019877         0.043958        0.004918     100   \n",
      "15       0.312702      0.022530         0.061916        0.006983     100   \n",
      "\n",
      "   param_kernel                           params  split0_test_score  \\\n",
      "0        linear   {'C': 0.1, 'kernel': 'linear'}          -0.156759   \n",
      "1           rbf      {'C': 0.1, 'kernel': 'rbf'}          -0.115313   \n",
      "2          poly     {'C': 0.1, 'kernel': 'poly'}          -0.112972   \n",
      "3       sigmoid  {'C': 0.1, 'kernel': 'sigmoid'}          -0.115301   \n",
      "4        linear     {'C': 1, 'kernel': 'linear'}          -0.147686   \n",
      "5           rbf        {'C': 1, 'kernel': 'rbf'}          -0.115378   \n",
      "6          poly       {'C': 1, 'kernel': 'poly'}          -0.094133   \n",
      "7       sigmoid    {'C': 1, 'kernel': 'sigmoid'}          -0.115183   \n",
      "8        linear    {'C': 10, 'kernel': 'linear'}          -0.018955   \n",
      "9           rbf       {'C': 10, 'kernel': 'rbf'}          -0.110604   \n",
      "10         poly      {'C': 10, 'kernel': 'poly'}          -0.124957   \n",
      "11      sigmoid   {'C': 10, 'kernel': 'sigmoid'}          -0.116803   \n",
      "12       linear   {'C': 100, 'kernel': 'linear'}           0.559219   \n",
      "13          rbf      {'C': 100, 'kernel': 'rbf'}          -0.160451   \n",
      "14         poly     {'C': 100, 'kernel': 'poly'}          -0.133326   \n",
      "15      sigmoid  {'C': 100, 'kernel': 'sigmoid'}          -0.143352   \n",
      "\n",
      "    split1_test_score  split2_test_score  split3_test_score  \\\n",
      "0           -0.102616          -0.117811          -0.140308   \n",
      "1           -0.113155          -0.081446          -0.105881   \n",
      "2           -0.105097          -0.077580          -0.104987   \n",
      "3           -0.113667          -0.081637          -0.106054   \n",
      "4           -0.090673          -0.104913          -0.123857   \n",
      "5           -0.110221          -0.079861          -0.104073   \n",
      "6           -0.073192          -0.064713          -0.092259   \n",
      "7           -0.114479          -0.081719          -0.105744   \n",
      "8            0.029849           0.022073           0.002907   \n",
      "9           -0.097319          -0.074639          -0.099453   \n",
      "10          -0.081216          -0.112434          -0.131866   \n",
      "11          -0.119471          -0.085214          -0.108348   \n",
      "12           0.522001           0.548044           0.538809   \n",
      "13          -0.106698          -0.123682          -0.137689   \n",
      "14          -0.082136          -0.128819          -0.139939   \n",
      "15          -0.161177          -0.118624          -0.136868   \n",
      "\n",
      "    split4_test_score  mean_test_score  std_test_score  rank_test_score  \n",
      "0           -0.216463        -0.146791        0.039464               15  \n",
      "1           -0.107296        -0.104618        0.012107                7  \n",
      "2           -0.108295        -0.101786        0.012447                5  \n",
      "3           -0.107241        -0.104780        0.012107                8  \n",
      "4           -0.202412        -0.133908        0.039227               12  \n",
      "5           -0.108368        -0.103580        0.012402                6  \n",
      "6           -0.113371        -0.087534        0.017088                3  \n",
      "7           -0.107729        -0.104971        0.012195                9  \n",
      "8           -0.066633        -0.006152        0.034631                2  \n",
      "9           -0.124373        -0.101278        0.016426                4  \n",
      "10          -0.180377        -0.126170        0.032193               11  \n",
      "11          -0.108677        -0.107703        0.012070               10  \n",
      "12           0.508484         0.535311        0.018127                1  \n",
      "13          -0.209899        -0.147684        0.035748               16  \n",
      "14          -0.189249        -0.134694        0.034066               13  \n",
      "15          -0.130144        -0.138033        0.014172               14  \n"
     ]
    }
   ],
   "source": [
    "#Table Format all the values\n",
    "svr_result=grid_svr.cv_results_\n",
    "svr_table=pd.DataFrame.from_dict(svr_result)\n",
    "print(svr_table)"
   ]
  },
  {
   "cell_type": "code",
   "execution_count": null,
   "id": "910f5759",
   "metadata": {},
   "outputs": [],
   "source": []
  },
  {
   "cell_type": "code",
   "execution_count": null,
   "id": "4388dc22",
   "metadata": {},
   "outputs": [],
   "source": []
  },
  {
   "cell_type": "code",
   "execution_count": null,
   "id": "7d5486c9",
   "metadata": {},
   "outputs": [],
   "source": []
  },
  {
   "cell_type": "markdown",
   "id": "c2e6b683",
   "metadata": {},
   "source": [
    "# DecisionTree"
   ]
  },
  {
   "cell_type": "code",
   "execution_count": null,
   "id": "d5ad87e7",
   "metadata": {},
   "outputs": [],
   "source": [
    "# document\n",
    "# https://scikit-learn.org/stable/modules/generated/sklearn.tree.DecisionTreeRegressor.html\n",
    "\n",
    "#friedman_mse (Mean Squared Error for Decision Trees)\n",
    "#Poisson criterion can only be used if all target values are non-negative. \n",
    "#If the target has negatives, you'll get a ValueError"
   ]
  },
  {
   "cell_type": "code",
   "execution_count": 16,
   "id": "2655c6df",
   "metadata": {},
   "outputs": [
    {
     "name": "stdout",
     "output_type": "stream",
     "text": [
      "Fitting 5 folds for each of 24 candidates, totalling 120 fits\n"
     ]
    },
    {
     "name": "stderr",
     "output_type": "stream",
     "text": [
      "C:\\Users\\hp\\anaconda3\\Lib\\site-packages\\sklearn\\model_selection\\_validation.py:425: FitFailedWarning: \n",
      "40 fits failed out of a total of 120.\n",
      "The score on these train-test partitions for these parameters will be set to nan.\n",
      "If these failures are not expected, you can try to debug them by setting error_score='raise'.\n",
      "\n",
      "Below are more details about the failures:\n",
      "--------------------------------------------------------------------------------\n",
      "24 fits failed with the following error:\n",
      "Traceback (most recent call last):\n",
      "  File \"C:\\Users\\hp\\anaconda3\\Lib\\site-packages\\sklearn\\model_selection\\_validation.py\", line 732, in _fit_and_score\n",
      "    estimator.fit(X_train, y_train, **fit_params)\n",
      "  File \"C:\\Users\\hp\\anaconda3\\Lib\\site-packages\\sklearn\\base.py\", line 1144, in wrapper\n",
      "    estimator._validate_params()\n",
      "  File \"C:\\Users\\hp\\anaconda3\\Lib\\site-packages\\sklearn\\base.py\", line 637, in _validate_params\n",
      "    validate_parameter_constraints(\n",
      "  File \"C:\\Users\\hp\\anaconda3\\Lib\\site-packages\\sklearn\\utils\\_param_validation.py\", line 95, in validate_parameter_constraints\n",
      "    raise InvalidParameterError(\n",
      "sklearn.utils._param_validation.InvalidParameterError: The 'max_features' parameter of DecisionTreeRegressor must be an int in the range [1, inf), a float in the range (0.0, 1.0], a str among {'log2', 'sqrt'} or None. Got 'auto' instead.\n",
      "\n",
      "--------------------------------------------------------------------------------\n",
      "16 fits failed with the following error:\n",
      "Traceback (most recent call last):\n",
      "  File \"C:\\Users\\hp\\anaconda3\\Lib\\site-packages\\sklearn\\model_selection\\_validation.py\", line 732, in _fit_and_score\n",
      "    estimator.fit(X_train, y_train, **fit_params)\n",
      "  File \"C:\\Users\\hp\\anaconda3\\Lib\\site-packages\\sklearn\\base.py\", line 1144, in wrapper\n",
      "    estimator._validate_params()\n",
      "  File \"C:\\Users\\hp\\anaconda3\\Lib\\site-packages\\sklearn\\base.py\", line 637, in _validate_params\n",
      "    validate_parameter_constraints(\n",
      "  File \"C:\\Users\\hp\\anaconda3\\Lib\\site-packages\\sklearn\\utils\\_param_validation.py\", line 95, in validate_parameter_constraints\n",
      "    raise InvalidParameterError(\n",
      "sklearn.utils._param_validation.InvalidParameterError: The 'max_features' parameter of DecisionTreeRegressor must be an int in the range [1, inf), a float in the range (0.0, 1.0], a str among {'sqrt', 'log2'} or None. Got 'auto' instead.\n",
      "\n",
      "  warnings.warn(some_fits_failed_message, FitFailedWarning)\n",
      "C:\\Users\\hp\\anaconda3\\Lib\\site-packages\\sklearn\\model_selection\\_search.py:976: UserWarning: One or more of the test scores are non-finite: [       nan        nan 0.67903706 0.66351112 0.67897219 0.6498143\n",
      "        nan        nan 0.70004659 0.64522202 0.68718553 0.6642462\n",
      "        nan        nan 0.64727412 0.65285533 0.63728952 0.65487103\n",
      "        nan        nan 0.70040437 0.66910631 0.68661456 0.58629565]\n",
      "  warnings.warn(\n"
     ]
    },
    {
     "data": {
      "text/html": [
       "<style>#sk-container-id-2 {color: black;}#sk-container-id-2 pre{padding: 0;}#sk-container-id-2 div.sk-toggleable {background-color: white;}#sk-container-id-2 label.sk-toggleable__label {cursor: pointer;display: block;width: 100%;margin-bottom: 0;padding: 0.3em;box-sizing: border-box;text-align: center;}#sk-container-id-2 label.sk-toggleable__label-arrow:before {content: \"▸\";float: left;margin-right: 0.25em;color: #696969;}#sk-container-id-2 label.sk-toggleable__label-arrow:hover:before {color: black;}#sk-container-id-2 div.sk-estimator:hover label.sk-toggleable__label-arrow:before {color: black;}#sk-container-id-2 div.sk-toggleable__content {max-height: 0;max-width: 0;overflow: hidden;text-align: left;background-color: #f0f8ff;}#sk-container-id-2 div.sk-toggleable__content pre {margin: 0.2em;color: black;border-radius: 0.25em;background-color: #f0f8ff;}#sk-container-id-2 input.sk-toggleable__control:checked~div.sk-toggleable__content {max-height: 200px;max-width: 100%;overflow: auto;}#sk-container-id-2 input.sk-toggleable__control:checked~label.sk-toggleable__label-arrow:before {content: \"▾\";}#sk-container-id-2 div.sk-estimator input.sk-toggleable__control:checked~label.sk-toggleable__label {background-color: #d4ebff;}#sk-container-id-2 div.sk-label input.sk-toggleable__control:checked~label.sk-toggleable__label {background-color: #d4ebff;}#sk-container-id-2 input.sk-hidden--visually {border: 0;clip: rect(1px 1px 1px 1px);clip: rect(1px, 1px, 1px, 1px);height: 1px;margin: -1px;overflow: hidden;padding: 0;position: absolute;width: 1px;}#sk-container-id-2 div.sk-estimator {font-family: monospace;background-color: #f0f8ff;border: 1px dotted black;border-radius: 0.25em;box-sizing: border-box;margin-bottom: 0.5em;}#sk-container-id-2 div.sk-estimator:hover {background-color: #d4ebff;}#sk-container-id-2 div.sk-parallel-item::after {content: \"\";width: 100%;border-bottom: 1px solid gray;flex-grow: 1;}#sk-container-id-2 div.sk-label:hover label.sk-toggleable__label {background-color: #d4ebff;}#sk-container-id-2 div.sk-serial::before {content: \"\";position: absolute;border-left: 1px solid gray;box-sizing: border-box;top: 0;bottom: 0;left: 50%;z-index: 0;}#sk-container-id-2 div.sk-serial {display: flex;flex-direction: column;align-items: center;background-color: white;padding-right: 0.2em;padding-left: 0.2em;position: relative;}#sk-container-id-2 div.sk-item {position: relative;z-index: 1;}#sk-container-id-2 div.sk-parallel {display: flex;align-items: stretch;justify-content: center;background-color: white;position: relative;}#sk-container-id-2 div.sk-item::before, #sk-container-id-2 div.sk-parallel-item::before {content: \"\";position: absolute;border-left: 1px solid gray;box-sizing: border-box;top: 0;bottom: 0;left: 50%;z-index: -1;}#sk-container-id-2 div.sk-parallel-item {display: flex;flex-direction: column;z-index: 1;position: relative;background-color: white;}#sk-container-id-2 div.sk-parallel-item:first-child::after {align-self: flex-end;width: 50%;}#sk-container-id-2 div.sk-parallel-item:last-child::after {align-self: flex-start;width: 50%;}#sk-container-id-2 div.sk-parallel-item:only-child::after {width: 0;}#sk-container-id-2 div.sk-dashed-wrapped {border: 1px dashed gray;margin: 0 0.4em 0.5em 0.4em;box-sizing: border-box;padding-bottom: 0.4em;background-color: white;}#sk-container-id-2 div.sk-label label {font-family: monospace;font-weight: bold;display: inline-block;line-height: 1.2em;}#sk-container-id-2 div.sk-label-container {text-align: center;}#sk-container-id-2 div.sk-container {/* jupyter's `normalize.less` sets `[hidden] { display: none; }` but bootstrap.min.css set `[hidden] { display: none !important; }` so we also need the `!important` here to be able to override the default hidden behavior on the sphinx rendered scikit-learn.org. See: https://github.com/scikit-learn/scikit-learn/issues/21755 */display: inline-block !important;position: relative;}#sk-container-id-2 div.sk-text-repr-fallback {display: none;}</style><div id=\"sk-container-id-2\" class=\"sk-top-container\"><div class=\"sk-text-repr-fallback\"><pre>GridSearchCV(estimator=DecisionTreeRegressor(), n_jobs=-1,\n",
       "             param_grid={&#x27;criterion&#x27;: [&#x27;squared_error&#x27;, &#x27;friedman_mse&#x27;,\n",
       "                                       &#x27;absolute_error&#x27;, &#x27;poisson&#x27;],\n",
       "                         &#x27;max_features&#x27;: [&#x27;auto&#x27;, &#x27;sqrt&#x27;, &#x27;log2&#x27;],\n",
       "                         &#x27;splitter&#x27;: [&#x27;best&#x27;, &#x27;random&#x27;]},\n",
       "             verbose=3)</pre><b>In a Jupyter environment, please rerun this cell to show the HTML representation or trust the notebook. <br />On GitHub, the HTML representation is unable to render, please try loading this page with nbviewer.org.</b></div><div class=\"sk-container\" hidden><div class=\"sk-item sk-dashed-wrapped\"><div class=\"sk-label-container\"><div class=\"sk-label sk-toggleable\"><input class=\"sk-toggleable__control sk-hidden--visually\" id=\"sk-estimator-id-4\" type=\"checkbox\" ><label for=\"sk-estimator-id-4\" class=\"sk-toggleable__label sk-toggleable__label-arrow\">GridSearchCV</label><div class=\"sk-toggleable__content\"><pre>GridSearchCV(estimator=DecisionTreeRegressor(), n_jobs=-1,\n",
       "             param_grid={&#x27;criterion&#x27;: [&#x27;squared_error&#x27;, &#x27;friedman_mse&#x27;,\n",
       "                                       &#x27;absolute_error&#x27;, &#x27;poisson&#x27;],\n",
       "                         &#x27;max_features&#x27;: [&#x27;auto&#x27;, &#x27;sqrt&#x27;, &#x27;log2&#x27;],\n",
       "                         &#x27;splitter&#x27;: [&#x27;best&#x27;, &#x27;random&#x27;]},\n",
       "             verbose=3)</pre></div></div></div><div class=\"sk-parallel\"><div class=\"sk-parallel-item\"><div class=\"sk-item\"><div class=\"sk-label-container\"><div class=\"sk-label sk-toggleable\"><input class=\"sk-toggleable__control sk-hidden--visually\" id=\"sk-estimator-id-5\" type=\"checkbox\" ><label for=\"sk-estimator-id-5\" class=\"sk-toggleable__label sk-toggleable__label-arrow\">estimator: DecisionTreeRegressor</label><div class=\"sk-toggleable__content\"><pre>DecisionTreeRegressor()</pre></div></div></div><div class=\"sk-serial\"><div class=\"sk-item\"><div class=\"sk-estimator sk-toggleable\"><input class=\"sk-toggleable__control sk-hidden--visually\" id=\"sk-estimator-id-6\" type=\"checkbox\" ><label for=\"sk-estimator-id-6\" class=\"sk-toggleable__label sk-toggleable__label-arrow\">DecisionTreeRegressor</label><div class=\"sk-toggleable__content\"><pre>DecisionTreeRegressor()</pre></div></div></div></div></div></div></div></div></div></div>"
      ],
      "text/plain": [
       "GridSearchCV(estimator=DecisionTreeRegressor(), n_jobs=-1,\n",
       "             param_grid={'criterion': ['squared_error', 'friedman_mse',\n",
       "                                       'absolute_error', 'poisson'],\n",
       "                         'max_features': ['auto', 'sqrt', 'log2'],\n",
       "                         'splitter': ['best', 'random']},\n",
       "             verbose=3)"
      ]
     },
     "execution_count": 16,
     "metadata": {},
     "output_type": "execute_result"
    }
   ],
   "source": [
    "#model creation\n",
    "#param_grid = {'criterion':['mse','mae','friedman_mse'],  \n",
    "param_grid = {'criterion':['squared_error', 'friedman_mse', 'absolute_error', 'poisson'],\n",
    "'max_features': ['auto','sqrt','log2'],\n",
    "'splitter':['best','random']}\n",
    "grid_dt_regressor = GridSearchCV(DecisionTreeRegressor(), param_grid, refit = True, verbose= 3,n_jobs=-1)\n",
    "# fitting the model for grid search\n",
    "#grid_dt_regressor.fit(X_train, y_train)\n",
    "grid_dt_regressor.fit(indep, dep)"
   ]
  },
  {
   "cell_type": "code",
   "execution_count": 19,
   "id": "f07a0ff2",
   "metadata": {},
   "outputs": [],
   "source": [
    "#ypred_dt_grid=grid_dt_regressor.predict(X_test)\n",
    "#y_pred predected output"
   ]
  },
  {
   "cell_type": "code",
   "execution_count": 21,
   "id": "3d74dd98",
   "metadata": {},
   "outputs": [],
   "source": [
    "#evaluation metric\n",
    "#dt_rscore_grid=r2_score(y_test,ypred_dt_grid)"
   ]
  },
  {
   "cell_type": "code",
   "execution_count": 17,
   "id": "c9fffe21",
   "metadata": {},
   "outputs": [
    {
     "name": "stdout",
     "output_type": "stream",
     "text": [
      "The R_score value for best parameter {'criterion': 'poisson', 'max_features': 'sqrt', 'splitter': 'best'}:\n"
     ]
    }
   ],
   "source": [
    "print(\"The R_score value for best parameter {}:\".format(grid_dt_regressor.best_params_))\n",
    "#decision tree R value (accuracy)"
   ]
  },
  {
   "cell_type": "code",
   "execution_count": 18,
   "id": "3d247766",
   "metadata": {},
   "outputs": [
    {
     "name": "stdout",
     "output_type": "stream",
     "text": [
      "    mean_fit_time  std_fit_time  mean_score_time  std_score_time  \\\n",
      "0        0.001608      0.001969         0.000000        0.000000   \n",
      "1        0.000000      0.000000         0.000000        0.000000   \n",
      "2        0.075680      0.011697         0.012546        0.006274   \n",
      "3        0.039210      0.029351         0.020038        0.004686   \n",
      "4        0.019411      0.001646         0.006908        0.005641   \n",
      "5        0.017598      0.003229         0.003201        0.004296   \n",
      "6        0.003789      0.006808         0.000000        0.000000   \n",
      "7        0.000000      0.000000         0.000000        0.000000   \n",
      "8        0.019144      0.006161         0.002875        0.005750   \n",
      "9        0.014831      0.000374         0.013451        0.006835   \n",
      "10       0.019903      0.004839         0.003847        0.005864   \n",
      "11       0.020329      0.004989         0.003215        0.003474   \n",
      "12       0.000000      0.000000         0.000000        0.000000   \n",
      "13       0.002503      0.005006         0.000000        0.000000   \n",
      "14       0.056350      0.011281         0.008432        0.006982   \n",
      "15       0.049720      0.004955         0.008430        0.005518   \n",
      "16       0.051117      0.008663         0.012278        0.006154   \n",
      "17       0.052353      0.009089         0.003820        0.007639   \n",
      "18       0.003126      0.006252         0.000000        0.000000   \n",
      "19       0.002902      0.005804         0.000000        0.000000   \n",
      "20       0.035936      0.022105         0.008212        0.006835   \n",
      "21       0.016889      0.001377         0.011450        0.005845   \n",
      "22       0.023648      0.007308         0.011576        0.006483   \n",
      "23       0.019475      0.001801         0.007376        0.002262   \n",
      "\n",
      "   param_criterion param_max_features param_splitter  \\\n",
      "0    squared_error               auto           best   \n",
      "1    squared_error               auto         random   \n",
      "2    squared_error               sqrt           best   \n",
      "3    squared_error               sqrt         random   \n",
      "4    squared_error               log2           best   \n",
      "5    squared_error               log2         random   \n",
      "6     friedman_mse               auto           best   \n",
      "7     friedman_mse               auto         random   \n",
      "8     friedman_mse               sqrt           best   \n",
      "9     friedman_mse               sqrt         random   \n",
      "10    friedman_mse               log2           best   \n",
      "11    friedman_mse               log2         random   \n",
      "12  absolute_error               auto           best   \n",
      "13  absolute_error               auto         random   \n",
      "14  absolute_error               sqrt           best   \n",
      "15  absolute_error               sqrt         random   \n",
      "16  absolute_error               log2           best   \n",
      "17  absolute_error               log2         random   \n",
      "18         poisson               auto           best   \n",
      "19         poisson               auto         random   \n",
      "20         poisson               sqrt           best   \n",
      "21         poisson               sqrt         random   \n",
      "22         poisson               log2           best   \n",
      "23         poisson               log2         random   \n",
      "\n",
      "                                               params  split0_test_score  \\\n",
      "0   {'criterion': 'squared_error', 'max_features':...                NaN   \n",
      "1   {'criterion': 'squared_error', 'max_features':...                NaN   \n",
      "2   {'criterion': 'squared_error', 'max_features':...           0.672114   \n",
      "3   {'criterion': 'squared_error', 'max_features':...           0.646779   \n",
      "4   {'criterion': 'squared_error', 'max_features':...           0.753334   \n",
      "5   {'criterion': 'squared_error', 'max_features':...           0.666540   \n",
      "6   {'criterion': 'friedman_mse', 'max_features': ...                NaN   \n",
      "7   {'criterion': 'friedman_mse', 'max_features': ...                NaN   \n",
      "8   {'criterion': 'friedman_mse', 'max_features': ...           0.688418   \n",
      "9   {'criterion': 'friedman_mse', 'max_features': ...           0.651282   \n",
      "10  {'criterion': 'friedman_mse', 'max_features': ...           0.733106   \n",
      "11  {'criterion': 'friedman_mse', 'max_features': ...           0.767747   \n",
      "12  {'criterion': 'absolute_error', 'max_features'...                NaN   \n",
      "13  {'criterion': 'absolute_error', 'max_features'...                NaN   \n",
      "14  {'criterion': 'absolute_error', 'max_features'...           0.672609   \n",
      "15  {'criterion': 'absolute_error', 'max_features'...           0.716894   \n",
      "16  {'criterion': 'absolute_error', 'max_features'...           0.648287   \n",
      "17  {'criterion': 'absolute_error', 'max_features'...           0.659248   \n",
      "18  {'criterion': 'poisson', 'max_features': 'auto...                NaN   \n",
      "19  {'criterion': 'poisson', 'max_features': 'auto...                NaN   \n",
      "20  {'criterion': 'poisson', 'max_features': 'sqrt...           0.739751   \n",
      "21  {'criterion': 'poisson', 'max_features': 'sqrt...           0.586219   \n",
      "22  {'criterion': 'poisson', 'max_features': 'log2...           0.672345   \n",
      "23  {'criterion': 'poisson', 'max_features': 'log2...           0.529398   \n",
      "\n",
      "    split1_test_score  split2_test_score  split3_test_score  \\\n",
      "0                 NaN                NaN                NaN   \n",
      "1                 NaN                NaN                NaN   \n",
      "2            0.591414           0.710769           0.698270   \n",
      "3            0.614551           0.625843           0.679403   \n",
      "4            0.648595           0.716284           0.546089   \n",
      "5            0.603318           0.668580           0.636709   \n",
      "6                 NaN                NaN                NaN   \n",
      "7                 NaN                NaN                NaN   \n",
      "8            0.608910           0.716354           0.734641   \n",
      "9            0.630901           0.681652           0.676305   \n",
      "10           0.672015           0.673545           0.626765   \n",
      "11           0.552423           0.716224           0.620457   \n",
      "12                NaN                NaN                NaN   \n",
      "13                NaN                NaN                NaN   \n",
      "14           0.545297           0.704392           0.717008   \n",
      "15           0.577998           0.602370           0.699582   \n",
      "16           0.536335           0.750747           0.595563   \n",
      "17           0.521353           0.685437           0.770708   \n",
      "18                NaN                NaN                NaN   \n",
      "19                NaN                NaN                NaN   \n",
      "20           0.617532           0.711894           0.735397   \n",
      "21           0.615555           0.723130           0.660992   \n",
      "22           0.613651           0.669593           0.750745   \n",
      "23           0.496178           0.585302           0.673299   \n",
      "\n",
      "    split4_test_score  mean_test_score  std_test_score  rank_test_score  \n",
      "0                 NaN              NaN             NaN               17  \n",
      "1                 NaN              NaN             NaN               17  \n",
      "2            0.722618         0.679037        0.046908                5  \n",
      "3            0.750979         0.663511        0.048988                9  \n",
      "4            0.730558         0.678972        0.075052                6  \n",
      "5            0.673925         0.649814        0.026634               12  \n",
      "6                 NaN              NaN             NaN               17  \n",
      "7                 NaN              NaN             NaN               17  \n",
      "8            0.751910         0.700047        0.050187                2  \n",
      "9            0.585970         0.645222        0.034773               14  \n",
      "10           0.730497         0.687186        0.040128                3  \n",
      "11           0.664381         0.664246        0.074614                8  \n",
      "12                NaN              NaN             NaN               17  \n",
      "13                NaN              NaN             NaN               17  \n",
      "14           0.597064         0.647274        0.065860               13  \n",
      "15           0.667434         0.652855        0.054128               11  \n",
      "16           0.655515         0.637290        0.071075               15  \n",
      "17           0.637610         0.654871        0.080619               10  \n",
      "18                NaN              NaN             NaN               17  \n",
      "19                NaN              NaN             NaN               17  \n",
      "20           0.697447         0.700404        0.044229                1  \n",
      "21           0.759636         0.669106        0.064681                7  \n",
      "22           0.726738         0.686615        0.048041                4  \n",
      "23           0.647301         0.586296        0.067306               16  \n"
     ]
    }
   ],
   "source": [
    "#Table Format all the values\n",
    "dt_result=grid_dt_regressor.cv_results_\n",
    "dt_table=pd.DataFrame.from_dict(dt_result)\n",
    "print(dt_table)"
   ]
  },
  {
   "cell_type": "markdown",
   "id": "94bbb36d",
   "metadata": {},
   "source": [
    "# Random Forest"
   ]
  },
  {
   "cell_type": "code",
   "execution_count": null,
   "id": "50e2351e",
   "metadata": {},
   "outputs": [],
   "source": [
    "#document\n",
    "#https://scikit-learn.org/stable/modules/generated/sklearn.ensemble.RandomForestRegressor.html"
   ]
  },
  {
   "cell_type": "code",
   "execution_count": 19,
   "id": "7638bb1f",
   "metadata": {},
   "outputs": [
    {
     "name": "stdout",
     "output_type": "stream",
     "text": [
      "Fitting 5 folds for each of 36 candidates, totalling 180 fits\n"
     ]
    },
    {
     "name": "stderr",
     "output_type": "stream",
     "text": [
      "C:\\Users\\hp\\anaconda3\\Lib\\site-packages\\sklearn\\model_selection\\_validation.py:425: FitFailedWarning: \n",
      "60 fits failed out of a total of 180.\n",
      "The score on these train-test partitions for these parameters will be set to nan.\n",
      "If these failures are not expected, you can try to debug them by setting error_score='raise'.\n",
      "\n",
      "Below are more details about the failures:\n",
      "--------------------------------------------------------------------------------\n",
      "26 fits failed with the following error:\n",
      "Traceback (most recent call last):\n",
      "  File \"C:\\Users\\hp\\anaconda3\\Lib\\site-packages\\sklearn\\model_selection\\_validation.py\", line 732, in _fit_and_score\n",
      "    estimator.fit(X_train, y_train, **fit_params)\n",
      "  File \"C:\\Users\\hp\\anaconda3\\Lib\\site-packages\\sklearn\\base.py\", line 1144, in wrapper\n",
      "    estimator._validate_params()\n",
      "  File \"C:\\Users\\hp\\anaconda3\\Lib\\site-packages\\sklearn\\base.py\", line 637, in _validate_params\n",
      "    validate_parameter_constraints(\n",
      "  File \"C:\\Users\\hp\\anaconda3\\Lib\\site-packages\\sklearn\\utils\\_param_validation.py\", line 95, in validate_parameter_constraints\n",
      "    raise InvalidParameterError(\n",
      "sklearn.utils._param_validation.InvalidParameterError: The 'max_features' parameter of RandomForestRegressor must be an int in the range [1, inf), a float in the range (0.0, 1.0], a str among {'log2', 'sqrt'} or None. Got 'auto' instead.\n",
      "\n",
      "--------------------------------------------------------------------------------\n",
      "34 fits failed with the following error:\n",
      "Traceback (most recent call last):\n",
      "  File \"C:\\Users\\hp\\anaconda3\\Lib\\site-packages\\sklearn\\model_selection\\_validation.py\", line 732, in _fit_and_score\n",
      "    estimator.fit(X_train, y_train, **fit_params)\n",
      "  File \"C:\\Users\\hp\\anaconda3\\Lib\\site-packages\\sklearn\\base.py\", line 1144, in wrapper\n",
      "    estimator._validate_params()\n",
      "  File \"C:\\Users\\hp\\anaconda3\\Lib\\site-packages\\sklearn\\base.py\", line 637, in _validate_params\n",
      "    validate_parameter_constraints(\n",
      "  File \"C:\\Users\\hp\\anaconda3\\Lib\\site-packages\\sklearn\\utils\\_param_validation.py\", line 95, in validate_parameter_constraints\n",
      "    raise InvalidParameterError(\n",
      "sklearn.utils._param_validation.InvalidParameterError: The 'max_features' parameter of RandomForestRegressor must be an int in the range [1, inf), a float in the range (0.0, 1.0], a str among {'sqrt', 'log2'} or None. Got 'auto' instead.\n",
      "\n",
      "  warnings.warn(some_fits_failed_message, FitFailedWarning)\n",
      "C:\\Users\\hp\\anaconda3\\Lib\\site-packages\\sklearn\\model_selection\\_search.py:976: UserWarning: One or more of the test scores are non-finite: [       nan        nan        nan 0.81507311 0.82683675 0.82726545\n",
      " 0.80892187 0.82520311 0.82736038        nan        nan        nan\n",
      " 0.81115774 0.82985422 0.82793581 0.81953723 0.83076735 0.83016845\n",
      "        nan        nan        nan 0.81360132 0.82652169 0.82900376\n",
      " 0.82408816 0.82729516 0.82810413        nan        nan        nan\n",
      " 0.81564151 0.82967259 0.82807276 0.81904278 0.82557335 0.82975739]\n",
      "  warnings.warn(\n"
     ]
    },
    {
     "data": {
      "text/html": [
       "<style>#sk-container-id-3 {color: black;}#sk-container-id-3 pre{padding: 0;}#sk-container-id-3 div.sk-toggleable {background-color: white;}#sk-container-id-3 label.sk-toggleable__label {cursor: pointer;display: block;width: 100%;margin-bottom: 0;padding: 0.3em;box-sizing: border-box;text-align: center;}#sk-container-id-3 label.sk-toggleable__label-arrow:before {content: \"▸\";float: left;margin-right: 0.25em;color: #696969;}#sk-container-id-3 label.sk-toggleable__label-arrow:hover:before {color: black;}#sk-container-id-3 div.sk-estimator:hover label.sk-toggleable__label-arrow:before {color: black;}#sk-container-id-3 div.sk-toggleable__content {max-height: 0;max-width: 0;overflow: hidden;text-align: left;background-color: #f0f8ff;}#sk-container-id-3 div.sk-toggleable__content pre {margin: 0.2em;color: black;border-radius: 0.25em;background-color: #f0f8ff;}#sk-container-id-3 input.sk-toggleable__control:checked~div.sk-toggleable__content {max-height: 200px;max-width: 100%;overflow: auto;}#sk-container-id-3 input.sk-toggleable__control:checked~label.sk-toggleable__label-arrow:before {content: \"▾\";}#sk-container-id-3 div.sk-estimator input.sk-toggleable__control:checked~label.sk-toggleable__label {background-color: #d4ebff;}#sk-container-id-3 div.sk-label input.sk-toggleable__control:checked~label.sk-toggleable__label {background-color: #d4ebff;}#sk-container-id-3 input.sk-hidden--visually {border: 0;clip: rect(1px 1px 1px 1px);clip: rect(1px, 1px, 1px, 1px);height: 1px;margin: -1px;overflow: hidden;padding: 0;position: absolute;width: 1px;}#sk-container-id-3 div.sk-estimator {font-family: monospace;background-color: #f0f8ff;border: 1px dotted black;border-radius: 0.25em;box-sizing: border-box;margin-bottom: 0.5em;}#sk-container-id-3 div.sk-estimator:hover {background-color: #d4ebff;}#sk-container-id-3 div.sk-parallel-item::after {content: \"\";width: 100%;border-bottom: 1px solid gray;flex-grow: 1;}#sk-container-id-3 div.sk-label:hover label.sk-toggleable__label {background-color: #d4ebff;}#sk-container-id-3 div.sk-serial::before {content: \"\";position: absolute;border-left: 1px solid gray;box-sizing: border-box;top: 0;bottom: 0;left: 50%;z-index: 0;}#sk-container-id-3 div.sk-serial {display: flex;flex-direction: column;align-items: center;background-color: white;padding-right: 0.2em;padding-left: 0.2em;position: relative;}#sk-container-id-3 div.sk-item {position: relative;z-index: 1;}#sk-container-id-3 div.sk-parallel {display: flex;align-items: stretch;justify-content: center;background-color: white;position: relative;}#sk-container-id-3 div.sk-item::before, #sk-container-id-3 div.sk-parallel-item::before {content: \"\";position: absolute;border-left: 1px solid gray;box-sizing: border-box;top: 0;bottom: 0;left: 50%;z-index: -1;}#sk-container-id-3 div.sk-parallel-item {display: flex;flex-direction: column;z-index: 1;position: relative;background-color: white;}#sk-container-id-3 div.sk-parallel-item:first-child::after {align-self: flex-end;width: 50%;}#sk-container-id-3 div.sk-parallel-item:last-child::after {align-self: flex-start;width: 50%;}#sk-container-id-3 div.sk-parallel-item:only-child::after {width: 0;}#sk-container-id-3 div.sk-dashed-wrapped {border: 1px dashed gray;margin: 0 0.4em 0.5em 0.4em;box-sizing: border-box;padding-bottom: 0.4em;background-color: white;}#sk-container-id-3 div.sk-label label {font-family: monospace;font-weight: bold;display: inline-block;line-height: 1.2em;}#sk-container-id-3 div.sk-label-container {text-align: center;}#sk-container-id-3 div.sk-container {/* jupyter's `normalize.less` sets `[hidden] { display: none; }` but bootstrap.min.css set `[hidden] { display: none !important; }` so we also need the `!important` here to be able to override the default hidden behavior on the sphinx rendered scikit-learn.org. See: https://github.com/scikit-learn/scikit-learn/issues/21755 */display: inline-block !important;position: relative;}#sk-container-id-3 div.sk-text-repr-fallback {display: none;}</style><div id=\"sk-container-id-3\" class=\"sk-top-container\"><div class=\"sk-text-repr-fallback\"><pre>GridSearchCV(estimator=RandomForestRegressor(), n_jobs=-1,\n",
       "             param_grid={&#x27;criterion&#x27;: [&#x27;squared_error&#x27;, &#x27;absolute_error&#x27;,\n",
       "                                       &#x27;friedman_mse&#x27;, &#x27;poisson&#x27;],\n",
       "                         &#x27;max_features&#x27;: [&#x27;auto&#x27;, &#x27;sqrt&#x27;, &#x27;log2&#x27;],\n",
       "                         &#x27;n_estimators&#x27;: [10, 50, 100]},\n",
       "             verbose=3)</pre><b>In a Jupyter environment, please rerun this cell to show the HTML representation or trust the notebook. <br />On GitHub, the HTML representation is unable to render, please try loading this page with nbviewer.org.</b></div><div class=\"sk-container\" hidden><div class=\"sk-item sk-dashed-wrapped\"><div class=\"sk-label-container\"><div class=\"sk-label sk-toggleable\"><input class=\"sk-toggleable__control sk-hidden--visually\" id=\"sk-estimator-id-7\" type=\"checkbox\" ><label for=\"sk-estimator-id-7\" class=\"sk-toggleable__label sk-toggleable__label-arrow\">GridSearchCV</label><div class=\"sk-toggleable__content\"><pre>GridSearchCV(estimator=RandomForestRegressor(), n_jobs=-1,\n",
       "             param_grid={&#x27;criterion&#x27;: [&#x27;squared_error&#x27;, &#x27;absolute_error&#x27;,\n",
       "                                       &#x27;friedman_mse&#x27;, &#x27;poisson&#x27;],\n",
       "                         &#x27;max_features&#x27;: [&#x27;auto&#x27;, &#x27;sqrt&#x27;, &#x27;log2&#x27;],\n",
       "                         &#x27;n_estimators&#x27;: [10, 50, 100]},\n",
       "             verbose=3)</pre></div></div></div><div class=\"sk-parallel\"><div class=\"sk-parallel-item\"><div class=\"sk-item\"><div class=\"sk-label-container\"><div class=\"sk-label sk-toggleable\"><input class=\"sk-toggleable__control sk-hidden--visually\" id=\"sk-estimator-id-8\" type=\"checkbox\" ><label for=\"sk-estimator-id-8\" class=\"sk-toggleable__label sk-toggleable__label-arrow\">estimator: RandomForestRegressor</label><div class=\"sk-toggleable__content\"><pre>RandomForestRegressor()</pre></div></div></div><div class=\"sk-serial\"><div class=\"sk-item\"><div class=\"sk-estimator sk-toggleable\"><input class=\"sk-toggleable__control sk-hidden--visually\" id=\"sk-estimator-id-9\" type=\"checkbox\" ><label for=\"sk-estimator-id-9\" class=\"sk-toggleable__label sk-toggleable__label-arrow\">RandomForestRegressor</label><div class=\"sk-toggleable__content\"><pre>RandomForestRegressor()</pre></div></div></div></div></div></div></div></div></div></div>"
      ],
      "text/plain": [
       "GridSearchCV(estimator=RandomForestRegressor(), n_jobs=-1,\n",
       "             param_grid={'criterion': ['squared_error', 'absolute_error',\n",
       "                                       'friedman_mse', 'poisson'],\n",
       "                         'max_features': ['auto', 'sqrt', 'log2'],\n",
       "                         'n_estimators': [10, 50, 100]},\n",
       "             verbose=3)"
      ]
     },
     "execution_count": 19,
     "metadata": {},
     "output_type": "execute_result"
    }
   ],
   "source": [
    "#import RF model algarithm\n",
    "#param_grid = {'criterion':['mse','mae'],\n",
    "param_grid = {'criterion':['squared_error', 'absolute_error', 'friedman_mse', 'poisson'],\n",
    "'max_features': ['auto','sqrt','log2'],\n",
    "'n_estimators':[10,50,100]}\n",
    "reg_grid_rf = GridSearchCV(RandomForestRegressor(), param_grid, refit = True, verbose= 3,n_jobs=-1)\n",
    "# fitting the model for grid search\n",
    "#reg_grid_rf.fit(X_train, y_train)\n",
    "reg_grid_rf.fit(indep, dep)\n",
    "#model creation"
   ]
  },
  {
   "cell_type": "code",
   "execution_count": 28,
   "id": "07226c3d",
   "metadata": {},
   "outputs": [],
   "source": [
    "#y_pred_rf_grid=reg_grid_rf.predict(X_test)\n",
    "#y_ore predicted score"
   ]
  },
  {
   "cell_type": "code",
   "execution_count": 29,
   "id": "d8639df2",
   "metadata": {},
   "outputs": [],
   "source": [
    "#evaluation metric\n",
    "#rf_rscore_grid=r2_score(y_test,y_pred_rf_grid)"
   ]
  },
  {
   "cell_type": "code",
   "execution_count": 20,
   "id": "c2fdb43d",
   "metadata": {},
   "outputs": [
    {
     "name": "stdout",
     "output_type": "stream",
     "text": [
      "The R_score value for best parameter {'criterion': 'absolute_error', 'max_features': 'log2', 'n_estimators': 50}:\n"
     ]
    }
   ],
   "source": [
    "print(\"The R_score value for best parameter {}:\".format(reg_grid_rf.best_params_))"
   ]
  },
  {
   "cell_type": "code",
   "execution_count": 21,
   "id": "faeef1ae",
   "metadata": {},
   "outputs": [
    {
     "name": "stdout",
     "output_type": "stream",
     "text": [
      "    mean_fit_time  std_fit_time  mean_score_time  std_score_time  \\\n",
      "0        0.006765      0.002603         0.000000    0.000000e+00   \n",
      "1        0.003226      0.003408         0.000000    0.000000e+00   \n",
      "2        0.001601      0.003203         0.000000    0.000000e+00   \n",
      "3        0.148888      0.009686         0.015622    1.168008e-07   \n",
      "4        0.685512      0.058244         0.033277    3.461252e-03   \n",
      "5        1.325920      0.041752         0.052931    1.361883e-02   \n",
      "6        0.147667      0.007735         0.015807    3.744531e-04   \n",
      "7        0.698195      0.027175         0.037521    7.629204e-03   \n",
      "8        1.367497      0.044838         0.047399    5.902709e-04   \n",
      "9        0.003124      0.006248         0.000000    0.000000e+00   \n",
      "10       0.003124      0.006248         0.000000    0.000000e+00   \n",
      "11       0.005838      0.007180         0.000000    0.000000e+00   \n",
      "12       0.353405      0.021347         0.013732    7.269024e-03   \n",
      "13       1.695108      0.051298         0.034367    6.248546e-03   \n",
      "14       3.423622      0.052654         0.056256    1.250680e-02   \n",
      "15       0.355806      0.010651         0.012497    6.248569e-03   \n",
      "16       1.740521      0.038353         0.028119    6.248403e-03   \n",
      "17       3.432189      0.055695         0.049990    6.247902e-03   \n",
      "18       0.003494      0.006988         0.000000    0.000000e+00   \n",
      "19       0.006248      0.007653         0.000000    0.000000e+00   \n",
      "20       0.000000      0.000000         0.000000    0.000000e+00   \n",
      "21       0.150242      0.019068         0.012500    6.249835e-03   \n",
      "22       0.696993      0.037867         0.024994    7.652592e-03   \n",
      "23       1.333367      0.030592         0.049362    5.450942e-03   \n",
      "24       0.178166      0.018787         0.015621    7.747687e-07   \n",
      "25       0.706678      0.030380         0.030467    1.000078e-02   \n",
      "26       1.427508      0.033927         0.055993    9.942465e-03   \n",
      "27       0.002739      0.002826         0.000000    0.000000e+00   \n",
      "28       0.001895      0.003292         0.000000    0.000000e+00   \n",
      "29       0.001844      0.003121         0.000000    0.000000e+00   \n",
      "30       0.184940      0.021605         0.014244    3.070188e-03   \n",
      "31       0.743524      0.033396         0.033352    3.768978e-03   \n",
      "32       1.477271      0.034161         0.066145    1.377054e-02   \n",
      "33       0.154706      0.014405         0.012496    6.248022e-03   \n",
      "34       0.780905      0.033678         0.031211    5.424088e-03   \n",
      "35       1.365985      0.040802         0.043094    1.057288e-02   \n",
      "\n",
      "   param_criterion param_max_features param_n_estimators  \\\n",
      "0    squared_error               auto                 10   \n",
      "1    squared_error               auto                 50   \n",
      "2    squared_error               auto                100   \n",
      "3    squared_error               sqrt                 10   \n",
      "4    squared_error               sqrt                 50   \n",
      "5    squared_error               sqrt                100   \n",
      "6    squared_error               log2                 10   \n",
      "7    squared_error               log2                 50   \n",
      "8    squared_error               log2                100   \n",
      "9   absolute_error               auto                 10   \n",
      "10  absolute_error               auto                 50   \n",
      "11  absolute_error               auto                100   \n",
      "12  absolute_error               sqrt                 10   \n",
      "13  absolute_error               sqrt                 50   \n",
      "14  absolute_error               sqrt                100   \n",
      "15  absolute_error               log2                 10   \n",
      "16  absolute_error               log2                 50   \n",
      "17  absolute_error               log2                100   \n",
      "18    friedman_mse               auto                 10   \n",
      "19    friedman_mse               auto                 50   \n",
      "20    friedman_mse               auto                100   \n",
      "21    friedman_mse               sqrt                 10   \n",
      "22    friedman_mse               sqrt                 50   \n",
      "23    friedman_mse               sqrt                100   \n",
      "24    friedman_mse               log2                 10   \n",
      "25    friedman_mse               log2                 50   \n",
      "26    friedman_mse               log2                100   \n",
      "27         poisson               auto                 10   \n",
      "28         poisson               auto                 50   \n",
      "29         poisson               auto                100   \n",
      "30         poisson               sqrt                 10   \n",
      "31         poisson               sqrt                 50   \n",
      "32         poisson               sqrt                100   \n",
      "33         poisson               log2                 10   \n",
      "34         poisson               log2                 50   \n",
      "35         poisson               log2                100   \n",
      "\n",
      "                                               params  split0_test_score  \\\n",
      "0   {'criterion': 'squared_error', 'max_features':...                NaN   \n",
      "1   {'criterion': 'squared_error', 'max_features':...                NaN   \n",
      "2   {'criterion': 'squared_error', 'max_features':...                NaN   \n",
      "3   {'criterion': 'squared_error', 'max_features':...           0.824640   \n",
      "4   {'criterion': 'squared_error', 'max_features':...           0.853576   \n",
      "5   {'criterion': 'squared_error', 'max_features':...           0.853642   \n",
      "6   {'criterion': 'squared_error', 'max_features':...           0.835424   \n",
      "7   {'criterion': 'squared_error', 'max_features':...           0.849976   \n",
      "8   {'criterion': 'squared_error', 'max_features':...           0.855548   \n",
      "9   {'criterion': 'absolute_error', 'max_features'...                NaN   \n",
      "10  {'criterion': 'absolute_error', 'max_features'...                NaN   \n",
      "11  {'criterion': 'absolute_error', 'max_features'...                NaN   \n",
      "12  {'criterion': 'absolute_error', 'max_features'...           0.815245   \n",
      "13  {'criterion': 'absolute_error', 'max_features'...           0.853477   \n",
      "14  {'criterion': 'absolute_error', 'max_features'...           0.855099   \n",
      "15  {'criterion': 'absolute_error', 'max_features'...           0.845077   \n",
      "16  {'criterion': 'absolute_error', 'max_features'...           0.853552   \n",
      "17  {'criterion': 'absolute_error', 'max_features'...           0.856873   \n",
      "18  {'criterion': 'friedman_mse', 'max_features': ...                NaN   \n",
      "19  {'criterion': 'friedman_mse', 'max_features': ...                NaN   \n",
      "20  {'criterion': 'friedman_mse', 'max_features': ...                NaN   \n",
      "21  {'criterion': 'friedman_mse', 'max_features': ...           0.830193   \n",
      "22  {'criterion': 'friedman_mse', 'max_features': ...           0.850390   \n",
      "23  {'criterion': 'friedman_mse', 'max_features': ...           0.856974   \n",
      "24  {'criterion': 'friedman_mse', 'max_features': ...           0.856458   \n",
      "25  {'criterion': 'friedman_mse', 'max_features': ...           0.858642   \n",
      "26  {'criterion': 'friedman_mse', 'max_features': ...           0.850622   \n",
      "27  {'criterion': 'poisson', 'max_features': 'auto...                NaN   \n",
      "28  {'criterion': 'poisson', 'max_features': 'auto...                NaN   \n",
      "29  {'criterion': 'poisson', 'max_features': 'auto...                NaN   \n",
      "30  {'criterion': 'poisson', 'max_features': 'sqrt...           0.851439   \n",
      "31  {'criterion': 'poisson', 'max_features': 'sqrt...           0.856412   \n",
      "32  {'criterion': 'poisson', 'max_features': 'sqrt...           0.856641   \n",
      "33  {'criterion': 'poisson', 'max_features': 'log2...           0.843316   \n",
      "34  {'criterion': 'poisson', 'max_features': 'log2...           0.851241   \n",
      "35  {'criterion': 'poisson', 'max_features': 'log2...           0.860117   \n",
      "\n",
      "    split1_test_score  split2_test_score  split3_test_score  \\\n",
      "0                 NaN                NaN                NaN   \n",
      "1                 NaN                NaN                NaN   \n",
      "2                 NaN                NaN                NaN   \n",
      "3            0.771427           0.856805           0.801155   \n",
      "4            0.777348           0.850835           0.816558   \n",
      "5            0.773548           0.851950           0.822539   \n",
      "6            0.739186           0.843305           0.808734   \n",
      "7            0.767851           0.848699           0.821391   \n",
      "8            0.771962           0.851811           0.821790   \n",
      "9                 NaN                NaN                NaN   \n",
      "10                NaN                NaN                NaN   \n",
      "11                NaN                NaN                NaN   \n",
      "12           0.751561           0.834385           0.821018   \n",
      "13           0.772842           0.850679           0.827506   \n",
      "14           0.771498           0.850673           0.826138   \n",
      "15           0.769071           0.846643           0.809169   \n",
      "16           0.773412           0.859836           0.825959   \n",
      "17           0.770758           0.857723           0.825790   \n",
      "18                NaN                NaN                NaN   \n",
      "19                NaN                NaN                NaN   \n",
      "20                NaN                NaN                NaN   \n",
      "21           0.767793           0.839775           0.805606   \n",
      "22           0.769410           0.853027           0.821904   \n",
      "23           0.773997           0.856977           0.823637   \n",
      "24           0.760838           0.855596           0.820438   \n",
      "25           0.771955           0.849347           0.818615   \n",
      "26           0.774438           0.857289           0.822511   \n",
      "27                NaN                NaN                NaN   \n",
      "28                NaN                NaN                NaN   \n",
      "29                NaN                NaN                NaN   \n",
      "30           0.738714           0.856074           0.808301   \n",
      "31           0.768834           0.859228           0.821142   \n",
      "32           0.772366           0.852190           0.823073   \n",
      "33           0.773505           0.833963           0.819820   \n",
      "34           0.770238           0.850368           0.818360   \n",
      "35           0.771407           0.853247           0.823254   \n",
      "\n",
      "    split4_test_score  mean_test_score  std_test_score  rank_test_score  \n",
      "0                 NaN              NaN             NaN               25  \n",
      "1                 NaN              NaN             NaN               25  \n",
      "2                 NaN              NaN             NaN               25  \n",
      "3            0.821339         0.815073        0.028182               21  \n",
      "4            0.835867         0.826837        0.028026               13  \n",
      "5            0.834648         0.827265        0.029215               12  \n",
      "6            0.817961         0.808922        0.036958               24  \n",
      "7            0.838099         0.825203        0.030450               16  \n",
      "8            0.835691         0.827360        0.030205               10  \n",
      "9                 NaN              NaN             NaN               25  \n",
      "10                NaN              NaN             NaN               25  \n",
      "11                NaN              NaN             NaN               25  \n",
      "12           0.833580         0.811158        0.030685               23  \n",
      "13           0.844767         0.829854        0.029900                3  \n",
      "14           0.836271         0.827936        0.030043                9  \n",
      "15           0.827726         0.819537        0.028665               18  \n",
      "16           0.841078         0.830767        0.030930                1  \n",
      "17           0.839699         0.830168        0.031975                2  \n",
      "18                NaN              NaN             NaN               25  \n",
      "19                NaN              NaN             NaN               25  \n",
      "20                NaN              NaN             NaN               25  \n",
      "21           0.824639         0.813601        0.025474               22  \n",
      "22           0.837877         0.826522        0.030608               14  \n",
      "23           0.833435         0.829004        0.030460                6  \n",
      "24           0.827111         0.824088        0.034824               17  \n",
      "25           0.837916         0.827295        0.030723               11  \n",
      "26           0.835661         0.828104        0.029418                7  \n",
      "27                NaN              NaN             NaN               25  \n",
      "28                NaN              NaN             NaN               25  \n",
      "29                NaN              NaN             NaN               25  \n",
      "30           0.823681         0.815642        0.042315               20  \n",
      "31           0.842747         0.829673        0.033267                5  \n",
      "32           0.836094         0.828073        0.030300                8  \n",
      "33           0.824610         0.819043        0.024154               19  \n",
      "34           0.837658         0.825573        0.030112               15  \n",
      "35           0.840763         0.829757        0.031754                4  \n"
     ]
    }
   ],
   "source": [
    "#Table Format all the values\n",
    "rf_result=reg_grid_rf.cv_results_\n",
    "rf_table=pd.DataFrame.from_dict(rf_result)\n",
    "print(rf_table)"
   ]
  },
  {
   "cell_type": "code",
   "execution_count": 40,
   "id": "25ab862c",
   "metadata": {},
   "outputs": [
    {
     "data": {
      "text/plain": [
       "0.8307673549839858"
      ]
     },
     "execution_count": 40,
     "metadata": {},
     "output_type": "execute_result"
    }
   ],
   "source": [
    "reg_grid_rf.best_score_"
   ]
  },
  {
   "cell_type": "code",
   "execution_count": null,
   "id": "2eb7fbf1",
   "metadata": {},
   "outputs": [],
   "source": [
    "#no r score here only table format"
   ]
  },
  {
   "cell_type": "code",
   "execution_count": 41,
   "id": "2c9e1a51",
   "metadata": {},
   "outputs": [
    {
     "name": "stdout",
     "output_type": "stream",
     "text": [
      "RF Score 0.8307673549839858\n",
      "DT Score 0.7004043721056169\n",
      "SVR Score 0.535311353603007\n"
     ]
    }
   ],
   "source": [
    "print(\"RF Score\",reg_grid_rf.best_score_)\n",
    "print(\"DT Score\",grid_dt_regressor.best_score_)\n",
    "print(\"SVR Score\",grid_svr.best_score_)"
   ]
  },
  {
   "cell_type": "code",
   "execution_count": 42,
   "id": "a374ddc8",
   "metadata": {},
   "outputs": [],
   "source": [
    "#save best model\n",
    "import pickle\n",
    "filename=\"best_regression_model_grid.sav\"\n",
    "pickle.dump(reg_grid_rf,open(filename,'wb'))  #best r score grid regressor mentioned here\n",
    "#reg_gb is regressor"
   ]
  },
  {
   "cell_type": "code",
   "execution_count": 43,
   "id": "7f5547f6",
   "metadata": {},
   "outputs": [],
   "source": [
    "#load model\n",
    "loaded_model=pickle.load(open(\"best_regression_model_grid.sav\",'rb'))"
   ]
  },
  {
   "cell_type": "code",
   "execution_count": 44,
   "id": "9c8389e7",
   "metadata": {},
   "outputs": [
    {
     "data": {
      "text/plain": [
       "Index(['age', 'bmi', 'children', 'charges', 'sex_male', 'smoker_yes'], dtype='object')"
      ]
     },
     "execution_count": 44,
     "metadata": {},
     "output_type": "execute_result"
    }
   ],
   "source": [
    "data.columns"
   ]
  },
  {
   "cell_type": "code",
   "execution_count": 45,
   "id": "d3e0003a",
   "metadata": {},
   "outputs": [
    {
     "name": "stdout",
     "output_type": "stream",
     "text": [
      "Charges [7293.48]\n"
     ]
    },
    {
     "name": "stderr",
     "output_type": "stream",
     "text": [
      "C:\\Users\\hp\\anaconda3\\Lib\\site-packages\\sklearn\\base.py:464: UserWarning: X does not have valid feature names, but RandomForestRegressor was fitted with feature names\n",
      "  warnings.warn(\n"
     ]
    }
   ],
   "source": [
    "# get target using multi fixed inputs -future prediction\n",
    "result=loaded_model.predict([[36,23,1,1,0]])\n",
    "#[][] to fix value error\n",
    "print(\"Charges\",result)"
   ]
  },
  {
   "cell_type": "code",
   "execution_count": null,
   "id": "ad6a9396",
   "metadata": {},
   "outputs": [],
   "source": [
    "#another way to validate"
   ]
  },
  {
   "cell_type": "code",
   "execution_count": null,
   "id": "4938efc8",
   "metadata": {},
   "outputs": [],
   "source": [
    "# get target using dynamic fixed inputs\n",
    "#input pass dynamically\n",
    "age_input=float(input(\"Age:\"))\n",
    "bmi_input=float(input(\"bmi\"))\n",
    "children_input=float(input(\"children \"))\n",
    "sex_male_input=int(input(\"sex_male 0 or 1:\"))\n",
    "smoker_yes_input=int(input(\"smoker_yes 0 or 1:\"))"
   ]
  },
  {
   "cell_type": "code",
   "execution_count": null,
   "id": "4ce34c22",
   "metadata": {},
   "outputs": [],
   "source": [
    "result=loaded_model.predict([[age_input,bmi_input,children_input,sex_male_input,smoker_yes_input]])\n",
    "print(\"Total Charges are= \",result)"
   ]
  },
  {
   "cell_type": "markdown",
   "id": "9bf33512",
   "metadata": {},
   "source": [
    "# Linear and Multi Linear not supported (GSV)\n",
    "# gamma should remove for better performance"
   ]
  }
 ],
 "metadata": {
  "kernelspec": {
   "display_name": "Python 3 (ipykernel)",
   "language": "python",
   "name": "python3"
  },
  "language_info": {
   "codemirror_mode": {
    "name": "ipython",
    "version": 3
   },
   "file_extension": ".py",
   "mimetype": "text/x-python",
   "name": "python",
   "nbconvert_exporter": "python",
   "pygments_lexer": "ipython3",
   "version": "3.11.4"
  }
 },
 "nbformat": 4,
 "nbformat_minor": 5
}
